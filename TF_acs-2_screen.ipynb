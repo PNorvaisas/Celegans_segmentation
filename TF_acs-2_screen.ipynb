{
 "cells": [
  {
   "cell_type": "markdown",
   "metadata": {},
   "source": [
    "# TF acs-2 screen"
   ]
  },
  {
   "cell_type": "code",
   "execution_count": 2,
   "metadata": {
    "collapsed": false
   },
   "outputs": [],
   "source": [
    "#%matplotlib inline\n",
    "import os\n",
    "import sys\n",
    "import tifffile as tiff\n",
    "import pandas as pd\n",
    "import matplotlib\n",
    "# For visualising\n",
    "#matplotlib.use('MacOSX') \n",
    "# For saving\n",
    "#matplotlib.use('Agg') \n",
    "matplotlib.use('MacOSX') #TkAgg\n",
    "import matplotlib.pyplot as plt\n",
    "\n",
    "import numpy as np\n",
    "import itertools as IT\n",
    "import time\n",
    "import glob\n",
    "import skimage\n",
    "from skimage import io as skio\n",
    "from skimage import color\n",
    "\n",
    "import cPickle\n",
    "import gzip\n",
    "\n",
    "import datetime\n",
    "from multiprocessing import Pool, Manager\n",
    "from multiprocessing.sharedctypes import Value, Array\n",
    "from ctypes import Structure, c_double, c_int\n",
    "\n",
    "sys.path.append(\"./src\")\n",
    "from utilities import *\n",
    "\n",
    "#plt.interactive(True)\n",
    "matplotlib.rcParams.update({'font.size': 12})\n",
    "np.set_printoptions(precision=3)\n",
    "\n"
   ]
  },
  {
   "cell_type": "markdown",
   "metadata": {},
   "source": [
    "## Set working directory"
   ]
  },
  {
   "cell_type": "code",
   "execution_count": 3,
   "metadata": {
    "collapsed": false
   },
   "outputs": [],
   "source": [
    "os.chdir(\"/Users/Povilas/Dropbox/Projects/Metformin_TF_acs-2/\")\n",
    "sourceloc = \"Users/Povilas/Dropbox/Projects/Metformin_TF_acs-2/\"\n",
    "\n",
    "# os.chdir(\"/home/pnorv/Dropbox/Projects/Metformin_TF_acs-2/\")\n",
    "# sourceloc = \"home/pnorv/Dropbox/Projects/Metformin_TF_acs-2/\"\n",
    "\n",
    "odir=\".\""
   ]
  },
  {
   "cell_type": "markdown",
   "metadata": {},
   "source": [
    "## Collect info about files"
   ]
  },
  {
   "cell_type": "code",
   "execution_count": 6,
   "metadata": {
    "collapsed": true
   },
   "outputs": [],
   "source": [
    "filedata=[]\n",
    "header=['Replicate_folder','Folder','File']\n",
    "filedata.append(header)\n",
    "\n",
    "allfiles=glob.glob('./*/*/*.tiff')\n",
    "\n",
    "for fl in allfiles:\n",
    "    rep,fld,fln=fl.split('/')[1:]\n",
    "    filedata.append([rep,fld,fln])\n",
    "    #print rep, fld, fln\n",
    "    \n",
    "writecsv(filedata,'Allfiles.csv')"
   ]
  },
  {
   "cell_type": "markdown",
   "metadata": {},
   "source": [
    "## Parse info"
   ]
  },
  {
   "cell_type": "code",
   "execution_count": 5,
   "metadata": {
    "collapsed": false
   },
   "outputs": [],
   "source": [
    "filelist=pd.read_csv('./Allfiles_annotated.csv')\n",
    "\n",
    "oimages=\"Images.pkl\"\n",
    "iimagesgz=\"Images.pkl.gz\"\n",
    "#oimagesgz=\"Images.pkl.gz\"\n",
    "\n",
    "otbl='All_results_onlyprc.csv'\n",
    "olabels=\"Segmentation_onlyprc.pkl\"\n",
    "#olabelsgz=\"Segmentation__onlyprc.pkl.gz\"\n",
    "\n",
    "res_header=['File','Worm','W_N','W_Sum','W_Mean','B_N','B_Sum','B_Mean']\n"
   ]
  },
  {
   "cell_type": "markdown",
   "metadata": {},
   "source": [
    "## Collect images"
   ]
  },
  {
   "cell_type": "code",
   "execution_count": null,
   "metadata": {
    "collapsed": true
   },
   "outputs": [],
   "source": [
    "settings={'colordepth':'uint8'}\n",
    "args=[(fl,settings,) for fl in filesel]\n",
    "\n",
    "results=multiprocessor(4,collector_M,args)\n",
    "fls,imagesarray=zip(*results)\n",
    "\n",
    "imagesindex={fl:fli for fli,fl in enumerate(fls) }\n",
    "\n",
    "print(\"Saving images: {}\".format(time.ctime()))\n",
    "print \"Stacking...\"\n",
    "images=np.stack(imagesarray, axis=0)\n",
    "print \"Done!\"\n",
    "\n",
    "f = open(oimages, \"w\")\n",
    "#f = gzip.open(oimagesgz, \"w\")\n",
    "print \"Writing...\"\n",
    "cPickle.dump((imagesindex,images), f)\n",
    "f.close()\n",
    "os.system(\"gzip {}\".format(oimages))\n",
    "print(\"Saving images complete!\")\n",
    "\n"
   ]
  },
  {
   "cell_type": "markdown",
   "metadata": {},
   "source": [
    "## Load images"
   ]
  },
  {
   "cell_type": "code",
   "execution_count": 5,
   "metadata": {
    "collapsed": false
   },
   "outputs": [
    {
     "name": "stdout",
     "output_type": "stream",
     "text": [
      "Sat Mar  3 19:39:51 2018\n",
      "Loading images... Sat Mar  3 19:39:51 2018\n",
      "Loading finished! Sat Mar  3 19:40:56 2018\n",
      "Sat Mar  3 19:40:56 2018\n"
     ]
    }
   ],
   "source": [
    "print time.ctime()\n",
    "print \"Loading images... {}\".format(time.ctime())\n",
    "idata = gzip.open(iimagesgz,'rb')\n",
    "imagesindex, images = cPickle.load(idata)\n",
    "idata.close()\n",
    "print \"Loading finished! {}\".format(time.ctime())\n",
    "print time.ctime()\n"
   ]
  },
  {
   "cell_type": "markdown",
   "metadata": {},
   "source": [
    "## Segment images"
   ]
  },
  {
   "cell_type": "code",
   "execution_count": 9,
   "metadata": {
    "collapsed": true
   },
   "outputs": [],
   "source": [
    "olabels='Segmentation_adaptive.pkl'\n",
    "otbl='All_results_adaptive.csv'"
   ]
  },
  {
   "cell_type": "code",
   "execution_count": null,
   "metadata": {
    "collapsed": true
   },
   "outputs": [],
   "source": [
    "settings={}\n",
    "args=[(fln,images[imagesindex[fln]],settings) for fln in imagesindex.keys()]\n",
    "\n",
    "results=multiprocessor(4,labeller5_M,args)\n",
    "\n",
    "fls, filteredarray, labelsarray, resultsarray = zip(*results)\n",
    "\n",
    "#Collect and save results\n",
    "labelsindex={fl:fli for fli,fl in enumerate(fls) }\n",
    "\n",
    "results_data=[]\n",
    "res_header=['File','Worm','W_N','W_Sum','W_Mean','B_N','B_Sum','B_Mean']\n",
    "\n",
    "for fl, respack in zip(fls, resultsarray):\n",
    "    for row in respack:\n",
    "        if len(row)>0:\n",
    "            results_data.append([fl]+row)\n",
    "            \n",
    "\n",
    "# Save results\n",
    "results=pd.DataFrame(results_data,columns=res_header)\n",
    "results.to_csv(otbl)\n",
    "\n",
    "print(\"Saving labels: {}\".format(time.ctime()))\n",
    "print \"Stacking...\"\n",
    "\n",
    "labels=np.stack(labelsarray, axis=0)\n",
    "filtered=np.stack(filteredarray, axis=0)\n",
    "print \"Stacking complete!\"\n",
    "\n",
    "print \"Writing...\"\n",
    "#f = gzip.open(olabelsgz, \"w\")\n",
    "f = open(olabels, \"w\")\n",
    "#cPickle.dump((labelsindex,labels), f)\n",
    "cPickle.dump((labelsindex,filtered,labels), f)\n",
    "f.close()\n",
    "print \"Zipping...\"\n",
    "os.system(\"gzip -f {}\".format(olabels))\n",
    "print(\"Saving labels complete! {}\".format(time.ctime()))"
   ]
  },
  {
   "cell_type": "markdown",
   "metadata": {},
   "source": [
    "### Load data"
   ]
  },
  {
   "cell_type": "code",
   "execution_count": 4,
   "metadata": {
    "collapsed": false
   },
   "outputs": [
    {
     "name": "stdout",
     "output_type": "stream",
     "text": [
      "./Allfiles_annotated.csv\n",
      "Index([u'Replicate', u'Type', u'Gene', u'FileNo', u'FileInd',\n",
      "       u'Replicate_folder', u'Folder', u'File', u'Max'],\n",
      "      dtype='object')\n",
      "Necessary headers found!\n"
     ]
    }
   ],
   "source": [
    "fileinfo=readTF('./Allfiles_annotated.csv')\n",
    "filelist=pd.read_csv('./Allfiles_annotated.csv')\n",
    "genes=fileinfo.keys()\n",
    "#genes=['OP50-C']\n",
    "\n",
    "iimages=\"Images.pkl.gz\"\n",
    "ilabels=\"Segmentation_adaptive.pkl.gz\"\n",
    "\n",
    "ofigs=\"Segmentation_adaptive/{}_segmentation_adaptive.pdf\"\n",
    "\n",
    "repflds=['Rep1_23-8-17','Rep2_24-8-17']\n",
    "\n",
    "plt.ioff()"
   ]
  },
  {
   "cell_type": "code",
   "execution_count": null,
   "metadata": {
    "collapsed": false
   },
   "outputs": [
    {
     "name": "stdout",
     "output_type": "stream",
     "text": [
      "Sat Mar  3 21:25:26 2018\n",
      "Loading images...\n"
     ]
    }
   ],
   "source": [
    "print time.ctime()\n",
    "\n",
    "print \"Loading images...\"\n",
    "imagesf = gzip.open(iimages,'rb')\n",
    "imagesindex, images = cPickle.load(imagesf)\n",
    "imagesf.close()\n",
    "print \"Loading finished!\"\n",
    "print time.ctime()\n",
    "\n",
    "print \"Loading labels...\"\n",
    "labelsf = gzip.open(ilabels,'rb')\n",
    "labelspickle = cPickle.load(labelsf)\n",
    "if len(labelspickle)==3:\n",
    "    labelsindex, filtered, labels=labelspickle\n",
    "else:\n",
    "    labelsindex, labels=labelspickle\n",
    "labelsf.close()\n",
    "print \"Loading finished!\"\n",
    "print time.ctime()"
   ]
  },
  {
   "cell_type": "markdown",
   "metadata": {},
   "source": [
    "### Generate figures"
   ]
  },
  {
   "cell_type": "code",
   "execution_count": 45,
   "metadata": {
    "collapsed": false
   },
   "outputs": [],
   "source": [
    "def plotTF_M((gene,ofigs,fileinfo,imagesindex,images,labelsindex,filtered,labels, settings,q)):\n",
    "    #ofigs,fileinfo, imagesindex, labelsindex, filtered, labels,\n",
    "    #global\n",
    "    \n",
    "    if gene=='OP50-C':\n",
    "        nflds=6*2\n",
    "    else:\n",
    "        nflds=4*2\n",
    "        \n",
    "    gval=fileinfo[gene]\n",
    "    gmax = gval['Max']\n",
    "    print gmax\n",
    "    \n",
    "    fwidth=6*nflds\n",
    "    fheight=5*gmax\n",
    "    \n",
    "    #print nflds, gmax, fwidth, fheight\n",
    "    fig, axes = plt.subplots(nrows=gmax, ncols=nflds, figsize=(fwidth,fheight), dpi=300)\n",
    "    ofile=ofigs.format(gene)\n",
    "    \n",
    "    #print ofile\n",
    "    col=0\n",
    "    for rep in [1,2]:\n",
    "        repval = gval[rep]\n",
    "        repfld=repflds[rep-1]\n",
    "        for tp in ['C','T']:\n",
    "            tpval=repval[tp]\n",
    "            for fld, fldvals in tpval.iteritems():\n",
    "                print \"Gene: {} Replicate: {} Type: {} Folder: {}\".format(gene, rep, tp, fld)\n",
    "                fldcontsel=fldvals['ByFIN']\n",
    "                #print fldcontsel.keys()\n",
    "                \n",
    "                row=0\n",
    "                for fli in fldcontsel.keys():\n",
    "                    fl=fldcontsel[fli]\n",
    "                    flfull=\"./{}/{}/{}\".format(repfld,fld,fl)\n",
    "                    print flfull #, os.path.isfile(flfull)\n",
    "                    \n",
    "                    #GetRGB data from a collapsed image\n",
    "                    image_raw=images[imagesindex[flfull]]\n",
    "                    if np.ndim(image_raw)==2:\n",
    "                        #v=image_raw\n",
    "                        image=color.gray2rgb(image_raw)\n",
    "                    else:\n",
    "                        #v=color.rgb2hsv(image)[:,:,2]\n",
    "                        image=image_raw\n",
    "                    #Load labels\n",
    "                    \n",
    "                    imagef=filtered[labelsindex[flfull]]\n",
    "                    labeled_worms=labels[labelsindex[flfull]]\n",
    "\n",
    "                    plotcontours(imagef,axes[row,col],ylabel=fl,title=\"{} - {}\".format(rep,fld),plotcontour=False,plotlabels=False,white=False)\n",
    "                    plotcontours(image,axes[row,col+1],labeled_worms,title=\"{}\".format(fli),plotlabels=False)\n",
    "                    row+=1 \n",
    "                    \n",
    "                    q.put(flfull) \n",
    "                col+=2\n",
    "\n",
    "           \n",
    "    #fig.tight_layout()\n",
    "    fig.savefig(ofile, bbox_inches='tight')\n",
    "    plt.close(fig)\n",
    "    "
   ]
  },
  {
   "cell_type": "code",
   "execution_count": 46,
   "metadata": {
    "collapsed": true
   },
   "outputs": [],
   "source": [
    "Aimages=Array(c_double,images.shape)\n",
    "Aimages=images.copy()\n",
    "\n",
    "Alabels=Array(c_double,labels.shape)\n",
    "Alabels=labels.copy()\n",
    "\n",
    "Afiltered=Array(c_double,filtered.shape)\n",
    "Afiltered=filtered.copy()\n",
    "\n",
    "m = Manager()\n",
    "Afileinfo=m.dict()\n",
    "Afileinfo.update(fileinfo)\n",
    "\n",
    "Aimagesindex=m.dict()\n",
    "Aimagesindex.update(imagesindex)\n",
    "\n",
    "Alabelsindex=m.dict()\n",
    "Alabelsindex.update(labelsindex)"
   ]
  },
  {
   "cell_type": "code",
   "execution_count": 47,
   "metadata": {
    "collapsed": false
   },
   "outputs": [
    {
     "ename": "KeyboardInterrupt",
     "evalue": "",
     "output_type": "error",
     "traceback": [
      "\u001b[0;31m---------------------------------------------------------------------------\u001b[0m",
      "\u001b[0;31mKeyboardInterrupt\u001b[0m                         Traceback (most recent call last)",
      "\u001b[0;32m<ipython-input-47-4a8c2c9d9a71>\u001b[0m in \u001b[0;36m<module>\u001b[0;34m()\u001b[0m\n\u001b[1;32m      5\u001b[0m \u001b[0margs\u001b[0m\u001b[0;34m=\u001b[0m\u001b[0;34m[\u001b[0m\u001b[0;34m(\u001b[0m\u001b[0mgene\u001b[0m\u001b[0;34m,\u001b[0m\u001b[0mofigs\u001b[0m\u001b[0;34m,\u001b[0m\u001b[0mAfileinfo\u001b[0m\u001b[0;34m,\u001b[0m\u001b[0mAimagesindex\u001b[0m\u001b[0;34m,\u001b[0m\u001b[0mAimages\u001b[0m\u001b[0;34m,\u001b[0m\u001b[0mAlabelsindex\u001b[0m\u001b[0;34m,\u001b[0m\u001b[0mAfiltered\u001b[0m\u001b[0;34m,\u001b[0m\u001b[0mAlabels\u001b[0m\u001b[0;34m,\u001b[0m \u001b[0msettings\u001b[0m\u001b[0;34m)\u001b[0m \u001b[0;32mfor\u001b[0m \u001b[0mgene\u001b[0m \u001b[0;32min\u001b[0m \u001b[0mgenes\u001b[0m\u001b[0;34m]\u001b[0m\u001b[0;34m\u001b[0m\u001b[0m\n\u001b[1;32m      6\u001b[0m \u001b[0;34m\u001b[0m\u001b[0m\n\u001b[0;32m----> 7\u001b[0;31m \u001b[0mresults\u001b[0m\u001b[0;34m=\u001b[0m\u001b[0mmultiprocessor\u001b[0m\u001b[0;34m(\u001b[0m\u001b[0;36m4\u001b[0m\u001b[0;34m,\u001b[0m\u001b[0mplotTF_M\u001b[0m\u001b[0;34m,\u001b[0m\u001b[0margs\u001b[0m\u001b[0;34m,\u001b[0m\u001b[0mfilelist\u001b[0m\u001b[0;34m.\u001b[0m\u001b[0mshape\u001b[0m\u001b[0;34m[\u001b[0m\u001b[0;36m0\u001b[0m\u001b[0;34m]\u001b[0m\u001b[0;34m)\u001b[0m\u001b[0;34m\u001b[0m\u001b[0m\n\u001b[0m\u001b[1;32m      8\u001b[0m \u001b[0;34m\u001b[0m\u001b[0m\n\u001b[1;32m      9\u001b[0m \u001b[0;31m#fls, filteredarray, labelsarray, resultsarray = zip(*results)\u001b[0m\u001b[0;34m\u001b[0m\u001b[0;34m\u001b[0m\u001b[0m\n",
      "\u001b[0;32m/Users/Povilas/Scripts/Celegans_segmentation/src/utilities.py\u001b[0m in \u001b[0;36mmultiprocessor\u001b[0;34m(cores, func, args, total)\u001b[0m\n\u001b[1;32m    393\u001b[0m                 \u001b[0;32mprint\u001b[0m \u001b[0;34m\"Done {0:3d}%, {1:>5}/{2:<5} remaining: {3:<5} total: {4:<5}\"\u001b[0m\u001b[0;34m.\u001b[0m\u001b[0mformat\u001b[0m\u001b[0;34m(\u001b[0m\u001b[0mint\u001b[0m\u001b[0;34m(\u001b[0m\u001b[0mprc\u001b[0m\u001b[0;34m)\u001b[0m\u001b[0;34m,\u001b[0m\u001b[0mstr\u001b[0m\u001b[0;34m(\u001b[0m\u001b[0mlcomp\u001b[0m\u001b[0;34m)\u001b[0m\u001b[0;34m,\u001b[0m\u001b[0mstr\u001b[0m\u001b[0;34m(\u001b[0m\u001b[0mtotal\u001b[0m\u001b[0;34m)\u001b[0m\u001b[0;34m,\u001b[0m\u001b[0mstr\u001b[0m\u001b[0;34m(\u001b[0m\u001b[0mdatetime\u001b[0m\u001b[0;34m.\u001b[0m\u001b[0mtimedelta\u001b[0m\u001b[0;34m(\u001b[0m\u001b[0mseconds\u001b[0m\u001b[0;34m=\u001b[0m\u001b[0mremaining\u001b[0m\u001b[0;34m)\u001b[0m\u001b[0;34m)\u001b[0m\u001b[0;34m,\u001b[0m\u001b[0mstr\u001b[0m\u001b[0;34m(\u001b[0m\u001b[0mdatetime\u001b[0m\u001b[0;34m.\u001b[0m\u001b[0mtimedelta\u001b[0m\u001b[0;34m(\u001b[0m\u001b[0mseconds\u001b[0m\u001b[0;34m=\u001b[0m\u001b[0mtotal\u001b[0m\u001b[0;34m)\u001b[0m\u001b[0;34m)\u001b[0m\u001b[0;34m)\u001b[0m\u001b[0;34m\u001b[0m\u001b[0m\n\u001b[1;32m    394\u001b[0m                 \u001b[0mprcprev\u001b[0m\u001b[0;34m=\u001b[0m\u001b[0mprc\u001b[0m\u001b[0;34m\u001b[0m\u001b[0m\n\u001b[0;32m--> 395\u001b[0;31m         \u001b[0mtime\u001b[0m\u001b[0;34m.\u001b[0m\u001b[0msleep\u001b[0m\u001b[0;34m(\u001b[0m\u001b[0;36m5\u001b[0m\u001b[0;34m)\u001b[0m\u001b[0;34m\u001b[0m\u001b[0m\n\u001b[0m\u001b[1;32m    396\u001b[0m     \u001b[0;32mprint\u001b[0m \u001b[0;34m'Collecting results....'\u001b[0m\u001b[0;34m\u001b[0m\u001b[0m\n\u001b[1;32m    397\u001b[0m     \u001b[0mresults\u001b[0m\u001b[0;34m=\u001b[0m\u001b[0mresult\u001b[0m\u001b[0;34m.\u001b[0m\u001b[0mget\u001b[0m\u001b[0;34m(\u001b[0m\u001b[0;34m)\u001b[0m\u001b[0;34m\u001b[0m\u001b[0m\n",
      "\u001b[0;31mKeyboardInterrupt\u001b[0m: "
     ]
    }
   ],
   "source": [
    "settings={}\n",
    "\n",
    "#global fileinfo, imagesindex, images, labelsindex,filtered, labels\n",
    "\n",
    "args=[(gene,ofigs,Afileinfo,Aimagesindex,Aimages,Alabelsindex,Afiltered,Alabels, settings) for gene in genes]\n",
    "\n",
    "results=multiprocessor(4,plotTF_M,args,filelist.shape[0])\n",
    "\n",
    "#fls, filteredarray, labelsarray, resultsarray = zip(*results)\n"
   ]
  }
 ],
 "metadata": {
  "kernelspec": {
   "display_name": "Python 2",
   "language": "python",
   "name": "python2"
  },
  "language_info": {
   "codemirror_mode": {
    "name": "ipython",
    "version": 2
   },
   "file_extension": ".py",
   "mimetype": "text/x-python",
   "name": "python",
   "nbconvert_exporter": "python",
   "pygments_lexer": "ipython2",
   "version": "2.7.11"
  }
 },
 "nbformat": 4,
 "nbformat_minor": 2
}
