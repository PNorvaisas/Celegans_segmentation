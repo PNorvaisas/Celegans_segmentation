{
 "cells": [
  {
   "cell_type": "markdown",
   "metadata": {},
   "source": [
    "# TF acs-2 screen"
   ]
  },
  {
   "cell_type": "code",
   "execution_count": null,
   "metadata": {
    "collapsed": true
   },
   "outputs": [],
   "source": [
    "#%matplotlib inline\n",
    "import os\n",
    "import sys\n",
    "import tifffile as tiff\n",
    "import pandas as pd\n",
    "import matplotlib\n",
    "# For visualising\n",
    "#matplotlib.use('MacOSX') \n",
    "# For saving\n",
    "#matplotlib.use('Agg') \n",
    "matplotlib.use('MacOSX') #TkAgg\n",
    "import matplotlib.pyplot as plt\n",
    "\n",
    "import numpy as np\n",
    "import itertools as IT\n",
    "import time\n",
    "import glob\n",
    "import skimage\n",
    "from skimage import io as skio\n",
    "from skimage import color\n",
    "\n",
    "sys.path.append(\"./src\")\n",
    "from utilities import *\n",
    "\n",
    "#plt.interactive(True)\n",
    "matplotlib.rcParams.update({'font.size': 12})\n",
    "np.set_printoptions(precision=3)\n",
    "\n"
   ]
  },
  {
   "cell_type": "markdown",
   "metadata": {},
   "source": [
    "## Set working directory"
   ]
  },
  {
   "cell_type": "code",
   "execution_count": null,
   "metadata": {
    "collapsed": true
   },
   "outputs": [],
   "source": [
    "os.chdir(\"/Users/Povilas/Dropbox/Projects/Metformin_TF_acs-2/\")\n",
    "sourceloc = \"Users/Povilas/Dropbox/Projects/Metformin_TF_acs-2/\"\n",
    "\n",
    "# os.chdir(\"/home/pnorv/Dropbox/Projects/Metformin_TF_acs-2/\")\n",
    "# sourceloc = \"home/pnorv/Dropbox/Projects/Metformin_TF_acs-2/\"\n",
    "\n",
    "odir=\".\""
   ]
  },
  {
   "cell_type": "markdown",
   "metadata": {},
   "source": [
    "## Collect info about files"
   ]
  },
  {
   "cell_type": "code",
   "execution_count": null,
   "metadata": {
    "collapsed": true
   },
   "outputs": [],
   "source": [
    "filedata=[]\n",
    "header=['Replicate_folder','Folder','File']\n",
    "filedata.append(header)\n",
    "\n",
    "allfiles=glob.glob('./*/*/*.tiff')\n",
    "\n",
    "for fl in allfiles:\n",
    "    rep,fld,fln=fl.split('/')[1:]\n",
    "    filedata.append([rep,fld,fln])\n",
    "    #print rep, fld, fln\n",
    "    \n",
    "writecsv(filedata,'Allfiles.csv')"
   ]
  },
  {
   "cell_type": "markdown",
   "metadata": {},
   "source": [
    "## Parse info"
   ]
  },
  {
   "cell_type": "code",
   "execution_count": null,
   "metadata": {
    "collapsed": true
   },
   "outputs": [],
   "source": [
    "structure=pd.read_csv('./Allfiles_summary.csv')\n",
    "fileinfo=readTF('./Allfiles_annotated.csv')\n",
    "\n",
    "#genes=fileinfo.keys()\n",
    "genes=['OP50-C']\n",
    "\n",
    "repflds=['Rep1_23-8-17','Rep2_24-8-17']"
   ]
  },
  {
   "cell_type": "markdown",
   "metadata": {},
   "source": [
    "## Loop over genes to generate summary"
   ]
  },
  {
   "cell_type": "code",
   "execution_count": null,
   "metadata": {
    "collapsed": true
   },
   "outputs": [],
   "source": [
    "for gene in genes:\n",
    "    if gene=='OP50-C':\n",
    "        nflds=6*2\n",
    "    else:\n",
    "        nflds=4*2\n",
    "    gval=fileinfo[gene]\n",
    "    gmax = gval['Max']\n",
    "    print gmax\n",
    "    \n",
    "    fwidth=6*nflds\n",
    "    fheight=5*gmax\n",
    "    \n",
    "    print nflds, gmax, fwidth, fheight\n",
    "    \n",
    "    \n",
    "    fig, axes = plt.subplots(nrows=gmax, ncols=nflds, figsize=(fwidth,fheight), dpi=300)\n",
    "    \n",
    "    ofile=\"{}_summary.pdf\".format(gene)\n",
    "    \n",
    "    print ofile\n",
    "    col=0\n",
    "    for rep in [1,2]:\n",
    "        repval = gval[rep]\n",
    "        repfld=repflds[rep-1]\n",
    "        for tp in ['C','T']:\n",
    "            tpval=repval[tp]\n",
    "            \n",
    "            for fld, fldvals in tpval.iteritems():\n",
    "                print \"Gene: {} Replicate: {} Type: {} Folder: {}\".format(gene, rep, tp, fld)\n",
    "                fldcontsel=fldvals['ByFIN']\n",
    "                print fldcontsel.keys()\n",
    "                \n",
    "                \n",
    "                row=0\n",
    "                for fli in fldcontsel.keys():\n",
    "                    fl=fldcontsel[fli]\n",
    "                    \n",
    "                    flfull=\"./{}/{}/{}\".format(repfld,fld,fl)\n",
    "                    print flfull #, os.path.isfile(flfull)\n",
    "\n",
    "                    image = tiff.imread(flfull)\n",
    "                    imghsv = color.rgb2hsv(image)\n",
    "                    imgrgb = img_as_float(image)\n",
    "                    v=imghsv[:,:,2]\n",
    "                    comb,labeled_worms,contours,worms=labeller4(v)\n",
    "                    plotcontours(comb,axes[row,col],ylabel=fl,title=\"{} - {}\".format(rep,fld),plotcontour=False,plotlabels=False,white=False)\n",
    "                    plotcontours(imgrgb,axes[row,col+1],labeled_worms,plotlabels=False)\n",
    "                    row+=1\n",
    "                col+=2\n",
    "\n",
    "    #fig.tight_layout()\n",
    "    fig.savefig(ofile, bbox_inches='tight')\n",
    "    plt.close(fig)"
   ]
  }
 ],
 "metadata": {
  "kernelspec": {
   "display_name": "Python 2",
   "language": "python",
   "name": "python2"
  },
  "language_info": {
   "codemirror_mode": {
    "name": "ipython",
    "version": 2
   },
   "file_extension": ".py",
   "mimetype": "text/x-python",
   "name": "python",
   "nbconvert_exporter": "python",
   "pygments_lexer": "ipython2",
   "version": "2.7.11"
  }
 },
 "nbformat": 4,
 "nbformat_minor": 2
}
