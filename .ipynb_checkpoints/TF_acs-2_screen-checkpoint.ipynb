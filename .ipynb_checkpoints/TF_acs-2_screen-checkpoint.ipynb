{
 "cells": [
  {
   "cell_type": "markdown",
   "metadata": {},
   "source": [
    "# TF acs-2 screen"
   ]
  },
  {
   "cell_type": "code",
   "execution_count": 2,
   "metadata": {
    "collapsed": false
   },
   "outputs": [],
   "source": [
    "%matplotlib inline\n",
    "import os\n",
    "import sys\n",
    "import tifffile as tiff\n",
    "import pandas as pd\n",
    "import matplotlib\n",
    "# For visualising\n",
    "#matplotlib.use('MacOSX') \n",
    "# For saving\n",
    "#matplotlib.use('Agg') \n",
    "matplotlib.use('MacOSX') #TkAgg\n",
    "import matplotlib.pyplot as plt\n",
    "\n",
    "import numpy as np\n",
    "import itertools as IT\n",
    "import time\n",
    "import glob\n",
    "import skimage\n",
    "from skimage import io as skio\n",
    "from skimage import color\n",
    "\n",
    "import cPickle\n",
    "import gzip\n",
    "\n",
    "import datetime\n",
    "from multiprocessing import Pool, Manager\n",
    "from multiprocessing.sharedctypes import Value, Array\n",
    "from ctypes import Structure, c_double, c_int\n",
    "\n",
    "sys.path.append(\"./src\")\n",
    "from utilities import *\n",
    "\n",
    "#plt.interactive(True)\n",
    "matplotlib.rcParams.update({'font.size': 12})\n",
    "np.set_printoptions(precision=3)\n",
    "\n"
   ]
  },
  {
   "cell_type": "markdown",
   "metadata": {},
   "source": [
    "## Set working directory"
   ]
  },
  {
   "cell_type": "code",
   "execution_count": 3,
   "metadata": {
    "collapsed": false
   },
   "outputs": [],
   "source": [
    "os.chdir(\"/Users/Povilas/Dropbox/Projects/Metformin_TF_acs-2/\")\n",
    "sourceloc = \"/Users/Povilas/Dropbox/Projects/Metformin_TF_acs-2/\"\n",
    "\n",
    "# os.chdir(\"/home/pnorv/Dropbox/Projects/Metformin_TF_acs-2/\")\n",
    "# sourceloc = \"home/pnorv/Dropbox/Projects/Metformin_TF_acs-2/\"\n",
    "\n",
    "odir=\".\""
   ]
  },
  {
   "cell_type": "markdown",
   "metadata": {},
   "source": [
    "## Collect info about files"
   ]
  },
  {
   "cell_type": "code",
   "execution_count": 5,
   "metadata": {
    "collapsed": true
   },
   "outputs": [],
   "source": [
    "filedata=[]\n",
    "header=['Replicate_folder','Folder','File']\n",
    "filedata.append(header)\n",
    "\n",
    "allfiles=glob.glob('./Rep*/*/*.tiff')\n",
    "\n",
    "for fl in allfiles:\n",
    "    rep,fld,fln=fl.split('/')[1:]\n",
    "    filedata.append([rep,fld,fln])\n",
    "    #print rep, fld, fln\n",
    "    \n",
    "writecsv(filedata,'Allfiles_additional.csv')"
   ]
  },
  {
   "cell_type": "markdown",
   "metadata": {},
   "source": [
    "## Parse info"
   ]
  },
  {
   "cell_type": "code",
   "execution_count": 6,
   "metadata": {
    "collapsed": false
   },
   "outputs": [],
   "source": [
    "#filelist=pd.read_csv('./Allfiles_annotated.csv')\n",
    "\n",
    "oimages=\"Images_additional.pkl\"\n",
    "\n",
    "#oimagesgz=\"Images.pkl.gz\""
   ]
  },
  {
   "cell_type": "code",
   "execution_count": 9,
   "metadata": {
    "collapsed": false
   },
   "outputs": [],
   "source": [
    "filesel=allfiles"
   ]
  },
  {
   "cell_type": "markdown",
   "metadata": {},
   "source": [
    "## Collect images"
   ]
  },
  {
   "cell_type": "code",
   "execution_count": 10,
   "metadata": {
    "collapsed": false
   },
   "outputs": [
    {
     "name": "stdout",
     "output_type": "stream",
     "text": [
      "Collecting results....\n",
      "Done!\n",
      "Saving images: Tue Mar 13 14:06:35 2018\n",
      "Stacking...\n",
      "Done!\n",
      "Writing...\n",
      "Saving images complete!\n"
     ]
    }
   ],
   "source": [
    "settings={'colordepth':'uint8'}\n",
    "args=[(fl,settings,) for fl in filesel]\n",
    "\n",
    "results=multiprocessor(4,collector_M,args)\n",
    "fls,imagesarray=zip(*results)\n",
    "\n",
    "imagesindex_add={fl:fli for fli,fl in enumerate(fls) }\n",
    "\n",
    "print(\"Saving images: {}\".format(time.ctime()))\n",
    "print \"Stacking...\"\n",
    "images_add=np.stack(imagesarray, axis=0)\n",
    "print \"Done!\"\n",
    "\n",
    "f = open(oimages, \"w\")\n",
    "#f = gzip.open(oimagesgz, \"w\")\n",
    "print \"Writing...\"\n",
    "cPickle.dump((imagesindex_add,images_add), f)\n",
    "f.close()\n",
    "os.system(\"gzip {}\".format(oimages))\n",
    "print(\"Saving images complete!\")\n",
    "\n"
   ]
  },
  {
   "cell_type": "code",
   "execution_count": 48,
   "metadata": {
    "collapsed": false
   },
   "outputs": [
    {
     "name": "stdout",
     "output_type": "stream",
     "text": [
      "Writing...\n",
      "Saving images complete!\n"
     ]
    }
   ],
   "source": [
    "f = open(\"Images_all.pkl\", \"w\")\n",
    "#f = gzip.open(oimagesgz, \"w\")\n",
    "print \"Writing...\"\n",
    "cPickle.dump((imagesindex,images_joint), f)\n",
    "f.close()\n",
    "\n",
    "os.system(\"gzip {}\".format(\"Images_all.pkl\"))\n",
    "print(\"Saving images complete!\")"
   ]
  },
  {
   "cell_type": "markdown",
   "metadata": {},
   "source": [
    "## Load images"
   ]
  },
  {
   "cell_type": "code",
   "execution_count": 4,
   "metadata": {
    "collapsed": false
   },
   "outputs": [
    {
     "name": "stdout",
     "output_type": "stream",
     "text": [
      "Tue Mar 13 16:10:17 2018\n",
      "Loading images... Tue Mar 13 16:10:17 2018\n",
      "Loading finished! Tue Mar 13 16:11:45 2018\n",
      "Tue Mar 13 16:11:45 2018\n"
     ]
    },
    {
     "data": {
      "text/plain": [
       "930"
      ]
     },
     "execution_count": 4,
     "metadata": {},
     "output_type": "execute_result"
    }
   ],
   "source": [
    "iimagesgz=\"Images_all.pkl.gz\"\n",
    "print time.ctime()\n",
    "print \"Loading images... {}\".format(time.ctime())\n",
    "idata = gzip.open(iimagesgz,'rb')\n",
    "imagesindex, images = cPickle.load(idata)\n",
    "idata.close()\n",
    "print \"Loading finished! {}\".format(time.ctime())\n",
    "print time.ctime()\n",
    "max(imagesindex.values())"
   ]
  },
  {
   "cell_type": "markdown",
   "metadata": {},
   "source": [
    "## Save heatmaps"
   ]
  },
  {
   "cell_type": "code",
   "execution_count": 55,
   "metadata": {
    "collapsed": false
   },
   "outputs": [
    {
     "name": "stderr",
     "output_type": "stream",
     "text": [
      "/usr/local/lib/python2.7/site-packages/skimage/exposure/exposure.py:307: RuntimeWarning: invalid value encountered in true_divide\n",
      "  image = (image - imin) / float(imax - imin)\n",
      "/usr/local/lib/python2.7/site-packages/skimage/util/dtype.py:110: UserWarning: Possible precision loss when converting from float64 to uint8\n",
      "  \"%s to %s\" % (dtypeobj_in, dtypeobj))\n",
      "/usr/local/lib/python2.7/site-packages/skimage/io/_io.py:132: UserWarning: ./Original/Rep1/mlc wo metf/mlc wo metf TF1_H.tiff is a low contrast image\n",
      "  warn('%s is a low contrast image' % fname)\n",
      "/usr/local/lib/python2.7/site-packages/skimage/io/_io.py:132: UserWarning: ./Original/Rep1/csiR wo metf/csiR wo metf TF1_H.tiff is a low contrast image\n",
      "  warn('%s is a low contrast image' % fname)\n",
      "/usr/local/lib/python2.7/site-packages/skimage/io/_io.py:132: UserWarning: ./Original/Rep1/ntrC wo metf/ntrC wo metf TF1_H.tiff is a low contrast image\n",
      "  warn('%s is a low contrast image' % fname)\n",
      "/usr/local/lib/python2.7/site-packages/skimage/io/_io.py:132: UserWarning: ./Original/Rep1/crp wo metf/crp wo metf TF1_H.tiff is a low contrast image\n",
      "  warn('%s is a low contrast image' % fname)\n",
      "/usr/local/lib/python2.7/site-packages/skimage/io/_io.py:132: UserWarning: ./Original/Rep1/cra wo metf/cra wo metf TF1_H.tiff is a low contrast image\n",
      "  warn('%s is a low contrast image' % fname)\n",
      "/usr/local/lib/python2.7/site-packages/skimage/io/_io.py:132: UserWarning: ./Original/Rep1/OP50-C wo metf/OP50-C wo metf TF1_H.tiff is a low contrast image\n",
      "  warn('%s is a low contrast image' % fname)\n",
      "/usr/local/lib/python2.7/site-packages/skimage/io/_io.py:132: UserWarning: ./Original/Rep1/arcA wo metf/arcA wo metf TF1_H.tiff is a low contrast image\n",
      "  warn('%s is a low contrast image' % fname)\n",
      "/usr/local/lib/python2.7/site-packages/skimage/io/_io.py:132: UserWarning: ./Original/Rep1/fur wo metf/fur wo metf TF1_H.tiff is a low contrast image\n",
      "  warn('%s is a low contrast image' % fname)\n",
      "/usr/local/lib/python2.7/site-packages/skimage/io/_io.py:132: UserWarning: ./Original/Rep1/argR wo metf/argR wo metf TF1_H.tiff is a low contrast image\n",
      "  warn('%s is a low contrast image' % fname)\n",
      "/usr/local/lib/python2.7/site-packages/skimage/io/_io.py:132: UserWarning: ./Original/Rep1/gcvA wo metf/gcvA wo metf TF1_H.tiff is a low contrast image\n",
      "  warn('%s is a low contrast image' % fname)\n",
      "/usr/local/lib/python2.7/site-packages/skimage/io/_io.py:132: UserWarning: ./Original/Rep2/mlc wo metf/mlc wo metf TF1_H.tiff is a low contrast image\n",
      "  warn('%s is a low contrast image' % fname)\n",
      "/usr/local/lib/python2.7/site-packages/skimage/io/_io.py:132: UserWarning: ./Original/Rep2/csiR wo metf/csiR wo metf TF1_H.tiff is a low contrast image\n",
      "  warn('%s is a low contrast image' % fname)\n",
      "/usr/local/lib/python2.7/site-packages/skimage/io/_io.py:132: UserWarning: ./Original/Rep2/ntrC wo metf/ntrC wo metf TF1_H.tiff is a low contrast image\n",
      "  warn('%s is a low contrast image' % fname)\n",
      "/usr/local/lib/python2.7/site-packages/skimage/io/_io.py:132: UserWarning: ./Original/Rep2/crp wo metf/crp wo metf TF1_H.tiff is a low contrast image\n",
      "  warn('%s is a low contrast image' % fname)\n",
      "/usr/local/lib/python2.7/site-packages/skimage/io/_io.py:132: UserWarning: ./Original/Rep2/cra wo metf/cra wo metf TF1_H.tiff is a low contrast image\n",
      "  warn('%s is a low contrast image' % fname)\n",
      "/usr/local/lib/python2.7/site-packages/skimage/io/_io.py:132: UserWarning: ./Original/Rep2/OP50-C wo metf/OP50-C wo metf TF1_H.tiff is a low contrast image\n",
      "  warn('%s is a low contrast image' % fname)\n",
      "/usr/local/lib/python2.7/site-packages/skimage/io/_io.py:132: UserWarning: ./Original/Rep2/arcA wo metf/arcA wo metf TF1_H.tiff is a low contrast image\n",
      "  warn('%s is a low contrast image' % fname)\n",
      "/usr/local/lib/python2.7/site-packages/skimage/io/_io.py:132: UserWarning: ./Original/Rep2/fur wo metf/fur wo metf TF1_H.tiff is a low contrast image\n",
      "  warn('%s is a low contrast image' % fname)\n",
      "/usr/local/lib/python2.7/site-packages/skimage/io/_io.py:132: UserWarning: ./Original/Rep2/argR wo metf/argR wo metf TF1_H.tiff is a low contrast image\n",
      "  warn('%s is a low contrast image' % fname)\n",
      "/usr/local/lib/python2.7/site-packages/skimage/io/_io.py:132: UserWarning: ./Original/Rep2/gcvA wo metf/gcvA wo metf TF1_H.tiff is a low contrast image\n",
      "  warn('%s is a low contrast image' % fname)\n",
      "/usr/local/lib/python2.7/site-packages/skimage/io/_io.py:132: UserWarning: ./Additional/Rep1/op50-c wo metf/op50-c wo metf TF1_H.tiff is a low contrast image\n",
      "  warn('%s is a low contrast image' % fname)\n",
      "/usr/local/lib/python2.7/site-packages/skimage/io/_io.py:132: UserWarning: ./Additional/Rep1/nac wo metf/nac wo metf TF1_H.tiff is a low contrast image\n",
      "  warn('%s is a low contrast image' % fname)\n",
      "/usr/local/lib/python2.7/site-packages/skimage/io/_io.py:132: UserWarning: ./Additional/Rep1/marA wo metf/marA wo metf TF1_H.tiff is a low contrast image\n",
      "  warn('%s is a low contrast image' % fname)\n",
      "/usr/local/lib/python2.7/site-packages/skimage/io/_io.py:132: UserWarning: ./Additional/Rep2/op50-c wo metf/op50-c wo metf TF1_H.tiff is a low contrast image\n",
      "  warn('%s is a low contrast image' % fname)\n",
      "/usr/local/lib/python2.7/site-packages/skimage/io/_io.py:132: UserWarning: ./Additional/Rep2/nac wo metf/nac wo metf TF1_H.tiff is a low contrast image\n",
      "  warn('%s is a low contrast image' % fname)\n",
      "/usr/local/lib/python2.7/site-packages/skimage/io/_io.py:132: UserWarning: ./Additional/Rep2/marA wo metf/marA wo metf TF1_H.tiff is a low contrast image\n",
      "  warn('%s is a low contrast image' % fname)\n",
      "/usr/local/lib/python2.7/site-packages/skimage/io/_io.py:132: UserWarning: ./Original/Rep2/csiR wo metf/csiR wo metf TF2_H.tiff is a low contrast image\n",
      "  warn('%s is a low contrast image' % fname)\n",
      "/usr/local/lib/python2.7/site-packages/skimage/io/_io.py:132: UserWarning: ./Original/Rep2/cra wo metf/cra wo metf TF2_H.tiff is a low contrast image\n",
      "  warn('%s is a low contrast image' % fname)\n",
      "/usr/local/lib/python2.7/site-packages/skimage/io/_io.py:132: UserWarning: ./Original/Rep2/fur wo metf/fur wo metf TF2_H.tiff is a low contrast image\n",
      "  warn('%s is a low contrast image' % fname)\n",
      "/usr/local/lib/python2.7/site-packages/skimage/io/_io.py:132: UserWarning: ./Original/Rep2/argR wo metf/argR wo metf TF2_H.tiff is a low contrast image\n",
      "  warn('%s is a low contrast image' % fname)\n",
      "/usr/local/lib/python2.7/site-packages/skimage/io/_io.py:132: UserWarning: ./Original/Rep2/gcvA wo metf/gcvA wo metf TF2_H.tiff is a low contrast image\n",
      "  warn('%s is a low contrast image' % fname)\n",
      "/usr/local/lib/python2.7/site-packages/skimage/io/_io.py:132: UserWarning: ./Additional/Rep1/marA wo metf/marA wo metf TF2_H.tiff is a low contrast image\n",
      "  warn('%s is a low contrast image' % fname)\n",
      "/usr/local/lib/python2.7/site-packages/skimage/io/_io.py:132: UserWarning: ./Additional/Rep2/nac wo metf/nac wo metf TF2_H.tiff is a low contrast image\n",
      "  warn('%s is a low contrast image' % fname)\n",
      "/usr/local/lib/python2.7/site-packages/skimage/io/_io.py:132: UserWarning: ./Original/Rep2/mlc wo metf/mlc wo metf TF3_H.tiff is a low contrast image\n",
      "  warn('%s is a low contrast image' % fname)\n",
      "/usr/local/lib/python2.7/site-packages/skimage/io/_io.py:132: UserWarning: ./Original/Rep2/csiR wo metf/csiR wo metf TF3_H.tiff is a low contrast image\n",
      "  warn('%s is a low contrast image' % fname)\n",
      "/usr/local/lib/python2.7/site-packages/skimage/io/_io.py:132: UserWarning: ./Original/Rep2/ntrC wo metf/ntrC wo metf TF3_H.tiff is a low contrast image\n",
      "  warn('%s is a low contrast image' % fname)\n",
      "/usr/local/lib/python2.7/site-packages/skimage/io/_io.py:132: UserWarning: ./Original/Rep2/cra wo metf/cra wo metf TF3_H.tiff is a low contrast image\n",
      "  warn('%s is a low contrast image' % fname)\n",
      "/usr/local/lib/python2.7/site-packages/skimage/io/_io.py:132: UserWarning: ./Original/Rep2/OP50-C wo metf/OP50-C wo metf TF3_H.tiff is a low contrast image\n",
      "  warn('%s is a low contrast image' % fname)\n",
      "/usr/local/lib/python2.7/site-packages/skimage/io/_io.py:132: UserWarning: ./Original/Rep2/argR wo metf/argR wo metf TF3_H.tiff is a low contrast image\n",
      "  warn('%s is a low contrast image' % fname)\n",
      "/usr/local/lib/python2.7/site-packages/skimage/io/_io.py:132: UserWarning: ./Original/Rep2/gcvA wo metf/gcvA wo metf TF3_H.tiff is a low contrast image\n",
      "  warn('%s is a low contrast image' % fname)\n",
      "/usr/local/lib/python2.7/site-packages/skimage/io/_io.py:132: UserWarning: ./Additional/Rep1/op50-c wo metf/op50-c wo metf TF3_H.tiff is a low contrast image\n",
      "  warn('%s is a low contrast image' % fname)\n",
      "/usr/local/lib/python2.7/site-packages/skimage/io/_io.py:132: UserWarning: ./Additional/Rep2/marA wo metf/marA wo metf TF3_H.tiff is a low contrast image\n",
      "  warn('%s is a low contrast image' % fname)\n",
      "/usr/local/lib/python2.7/site-packages/skimage/io/_io.py:132: UserWarning: ./Original/Rep1/mlc wo metf/mlc wo metf TF4_H.tiff is a low contrast image\n",
      "  warn('%s is a low contrast image' % fname)\n",
      "/usr/local/lib/python2.7/site-packages/skimage/io/_io.py:132: UserWarning: ./Original/Rep1/ntrC wo metf/ntrC wo metf TF4_H.tiff is a low contrast image\n",
      "  warn('%s is a low contrast image' % fname)\n",
      "/usr/local/lib/python2.7/site-packages/skimage/io/_io.py:132: UserWarning: ./Original/Rep1/cra wo metf/cra wo metf TF4_H.tiff is a low contrast image\n",
      "  warn('%s is a low contrast image' % fname)\n",
      "/usr/local/lib/python2.7/site-packages/skimage/io/_io.py:132: UserWarning: ./Original/Rep1/fur wo metf/fur wo metf TF4_H.tiff is a low contrast image\n",
      "  warn('%s is a low contrast image' % fname)\n",
      "/usr/local/lib/python2.7/site-packages/skimage/io/_io.py:132: UserWarning: ./Original/Rep1/gcvA wo metf/gcvA wo metf TF4_H.tiff is a low contrast image\n",
      "  warn('%s is a low contrast image' % fname)\n",
      "/usr/local/lib/python2.7/site-packages/skimage/io/_io.py:132: UserWarning: ./Original/Rep2/mlc wo metf/mlc wo metf TF4_H.tiff is a low contrast image\n",
      "  warn('%s is a low contrast image' % fname)\n",
      "/usr/local/lib/python2.7/site-packages/skimage/io/_io.py:132: UserWarning: ./Original/Rep2/csiR wo metf/csiR wo metf TF4_H.tiff is a low contrast image\n",
      "  warn('%s is a low contrast image' % fname)\n",
      "/usr/local/lib/python2.7/site-packages/skimage/io/_io.py:132: UserWarning: ./Original/Rep2/ntrC wo metf/ntrC wo metf TF4_H.tiff is a low contrast image\n",
      "  warn('%s is a low contrast image' % fname)\n",
      "/usr/local/lib/python2.7/site-packages/skimage/io/_io.py:132: UserWarning: ./Original/Rep2/fur wo metf/fur wo metf TF4_H.tiff is a low contrast image\n",
      "  warn('%s is a low contrast image' % fname)\n",
      "/usr/local/lib/python2.7/site-packages/skimage/io/_io.py:132: UserWarning: ./Original/Rep2/argR wo metf/argR wo metf TF4_H.tiff is a low contrast image\n",
      "  warn('%s is a low contrast image' % fname)\n",
      "/usr/local/lib/python2.7/site-packages/skimage/io/_io.py:132: UserWarning: ./Original/Rep2/gcvA wo metf/gcvA wo metf TF4_H.tiff is a low contrast image\n",
      "  warn('%s is a low contrast image' % fname)\n",
      "/usr/local/lib/python2.7/site-packages/skimage/io/_io.py:132: UserWarning: ./Additional/Rep2/op50-c wo metf/op50-c wo metf TF4_H.tiff is a low contrast image\n",
      "  warn('%s is a low contrast image' % fname)\n",
      "/usr/local/lib/python2.7/site-packages/skimage/io/_io.py:132: UserWarning: ./Additional/Rep2/marA wo metf/marA wo metf TF4_H.tiff is a low contrast image\n",
      "  warn('%s is a low contrast image' % fname)\n",
      "/usr/local/lib/python2.7/site-packages/skimage/io/_io.py:132: UserWarning: ./Original/Rep1/mlc wo metf/mlc wo metf TF5_H.tiff is a low contrast image\n",
      "  warn('%s is a low contrast image' % fname)\n",
      "/usr/local/lib/python2.7/site-packages/skimage/io/_io.py:132: UserWarning: ./Original/Rep1/ntrC wo metf/ntrC wo metf TF5_H.tiff is a low contrast image\n",
      "  warn('%s is a low contrast image' % fname)\n",
      "/usr/local/lib/python2.7/site-packages/skimage/io/_io.py:132: UserWarning: ./Original/Rep1/crp wo metf/crp wo metf TF5_H.tiff is a low contrast image\n",
      "  warn('%s is a low contrast image' % fname)\n",
      "/usr/local/lib/python2.7/site-packages/skimage/io/_io.py:132: UserWarning: ./Original/Rep1/cra wo metf/cra wo metf TF5_H.tiff is a low contrast image\n",
      "  warn('%s is a low contrast image' % fname)\n",
      "/usr/local/lib/python2.7/site-packages/skimage/io/_io.py:132: UserWarning: ./Original/Rep1/OP50-C wo metf/OP50-C wo metf TF5_H.tiff is a low contrast image\n",
      "  warn('%s is a low contrast image' % fname)\n",
      "/usr/local/lib/python2.7/site-packages/skimage/io/_io.py:132: UserWarning: ./Original/Rep1/fur wo metf/fur wo metf TF5_H.tiff is a low contrast image\n",
      "  warn('%s is a low contrast image' % fname)\n",
      "/usr/local/lib/python2.7/site-packages/skimage/io/_io.py:132: UserWarning: ./Original/Rep1/argR wo metf/argR wo metf TF5_H.tiff is a low contrast image\n",
      "  warn('%s is a low contrast image' % fname)\n",
      "/usr/local/lib/python2.7/site-packages/skimage/io/_io.py:132: UserWarning: ./Original/Rep1/gcvA wo metf/gcvA wo metf TF5_H.tiff is a low contrast image\n",
      "  warn('%s is a low contrast image' % fname)\n",
      "/usr/local/lib/python2.7/site-packages/skimage/io/_io.py:132: UserWarning: ./Original/Rep2/mlc wo metf/mlc wo metf TF5_H.tiff is a low contrast image\n",
      "  warn('%s is a low contrast image' % fname)\n",
      "/usr/local/lib/python2.7/site-packages/skimage/io/_io.py:132: UserWarning: ./Original/Rep2/csiR wo metf/csiR wo metf TF5_H.tiff is a low contrast image\n",
      "  warn('%s is a low contrast image' % fname)\n",
      "/usr/local/lib/python2.7/site-packages/skimage/io/_io.py:132: UserWarning: ./Original/Rep2/ntrC wo metf/ntrC wo metf TF5_H.tiff is a low contrast image\n",
      "  warn('%s is a low contrast image' % fname)\n",
      "/usr/local/lib/python2.7/site-packages/skimage/io/_io.py:132: UserWarning: ./Original/Rep2/cra wo metf/cra wo metf TF5_H.tiff is a low contrast image\n",
      "  warn('%s is a low contrast image' % fname)\n",
      "/usr/local/lib/python2.7/site-packages/skimage/io/_io.py:132: UserWarning: ./Original/Rep2/OP50-C wo metf/OP50-C wo metf TF5_H.tiff is a low contrast image\n",
      "  warn('%s is a low contrast image' % fname)\n",
      "/usr/local/lib/python2.7/site-packages/skimage/io/_io.py:132: UserWarning: ./Original/Rep2/arcA wo metf/arcA wo metf TF5_H.tiff is a low contrast image\n",
      "  warn('%s is a low contrast image' % fname)\n",
      "/usr/local/lib/python2.7/site-packages/skimage/io/_io.py:132: UserWarning: ./Original/Rep2/fur wo metf/fur wo metf TF5_H.tiff is a low contrast image\n",
      "  warn('%s is a low contrast image' % fname)\n",
      "/usr/local/lib/python2.7/site-packages/skimage/io/_io.py:132: UserWarning: ./Original/Rep2/argR wo metf/argR wo metf TF5_H.tiff is a low contrast image\n",
      "  warn('%s is a low contrast image' % fname)\n",
      "/usr/local/lib/python2.7/site-packages/skimage/io/_io.py:132: UserWarning: ./Additional/Rep2/op50-c wo metf/op50-c wo metf TF5_H.tiff is a low contrast image\n",
      "  warn('%s is a low contrast image' % fname)\n",
      "/usr/local/lib/python2.7/site-packages/skimage/io/_io.py:132: UserWarning: ./Original/Rep1/mlc wo metf/mlc wo metf TF6_H.tiff is a low contrast image\n",
      "  warn('%s is a low contrast image' % fname)\n",
      "/usr/local/lib/python2.7/site-packages/skimage/io/_io.py:132: UserWarning: ./Original/Rep1/ntrC wo metf/ntrC wo metf TF6_H.tiff is a low contrast image\n",
      "  warn('%s is a low contrast image' % fname)\n",
      "/usr/local/lib/python2.7/site-packages/skimage/io/_io.py:132: UserWarning: ./Original/Rep1/crp wo metf/crp wo metf TF6_H.tiff is a low contrast image\n",
      "  warn('%s is a low contrast image' % fname)\n",
      "/usr/local/lib/python2.7/site-packages/skimage/io/_io.py:132: UserWarning: ./Original/Rep1/cra wo metf/cra wo metf TF6_H.tiff is a low contrast image\n",
      "  warn('%s is a low contrast image' % fname)\n",
      "/usr/local/lib/python2.7/site-packages/skimage/io/_io.py:132: UserWarning: ./Original/Rep1/OP50-C wo metf/OP50-C wo metf TF6_H.tiff is a low contrast image\n",
      "  warn('%s is a low contrast image' % fname)\n",
      "/usr/local/lib/python2.7/site-packages/skimage/io/_io.py:132: UserWarning: ./Original/Rep1/arcA wo metf/arcA wo metf TF6_H.tiff is a low contrast image\n",
      "  warn('%s is a low contrast image' % fname)\n",
      "/usr/local/lib/python2.7/site-packages/skimage/io/_io.py:132: UserWarning: ./Original/Rep1/fur wo metf/fur wo metf TF6_H.tiff is a low contrast image\n",
      "  warn('%s is a low contrast image' % fname)\n",
      "/usr/local/lib/python2.7/site-packages/skimage/io/_io.py:132: UserWarning: ./Original/Rep1/argR wo metf/argR wo metf TF6_H.tiff is a low contrast image\n",
      "  warn('%s is a low contrast image' % fname)\n",
      "/usr/local/lib/python2.7/site-packages/skimage/io/_io.py:132: UserWarning: ./Original/Rep1/gcvA wo metf/gcvA wo metf TF6_H.tiff is a low contrast image\n",
      "  warn('%s is a low contrast image' % fname)\n",
      "/usr/local/lib/python2.7/site-packages/skimage/io/_io.py:132: UserWarning: ./Original/Rep2/mlc wo metf/mlc wo metf TF6_H.tiff is a low contrast image\n",
      "  warn('%s is a low contrast image' % fname)\n",
      "/usr/local/lib/python2.7/site-packages/skimage/io/_io.py:132: UserWarning: ./Original/Rep2/OP50-C wo metf/OP50-C wo metf TF6_H.tiff is a low contrast image\n",
      "  warn('%s is a low contrast image' % fname)\n",
      "/usr/local/lib/python2.7/site-packages/skimage/io/_io.py:132: UserWarning: ./Original/Rep2/fur wo metf/fur wo metf TF6_H.tiff is a low contrast image\n",
      "  warn('%s is a low contrast image' % fname)\n",
      "/usr/local/lib/python2.7/site-packages/skimage/io/_io.py:132: UserWarning: ./Original/Rep2/argR wo metf/argR wo metf TF6_H.tiff is a low contrast image\n",
      "  warn('%s is a low contrast image' % fname)\n",
      "/usr/local/lib/python2.7/site-packages/skimage/io/_io.py:132: UserWarning: ./Original/Rep1/mlc wo metf/mlc wo metf TF7_H.tiff is a low contrast image\n",
      "  warn('%s is a low contrast image' % fname)\n",
      "/usr/local/lib/python2.7/site-packages/skimage/io/_io.py:132: UserWarning: ./Original/Rep1/csiR wo metf/csiR wo metf TF7_H.tiff is a low contrast image\n",
      "  warn('%s is a low contrast image' % fname)\n",
      "/usr/local/lib/python2.7/site-packages/skimage/io/_io.py:132: UserWarning: ./Original/Rep1/ntrC wo metf/ntrC wo metf TF7_H.tiff is a low contrast image\n",
      "  warn('%s is a low contrast image' % fname)\n",
      "/usr/local/lib/python2.7/site-packages/skimage/io/_io.py:132: UserWarning: ./Original/Rep1/crp wo metf/crp wo metf TF7_H.tiff is a low contrast image\n",
      "  warn('%s is a low contrast image' % fname)\n",
      "/usr/local/lib/python2.7/site-packages/skimage/io/_io.py:132: UserWarning: ./Original/Rep1/arcA wo metf/arcA wo metf TF7_H.tiff is a low contrast image\n",
      "  warn('%s is a low contrast image' % fname)\n",
      "/usr/local/lib/python2.7/site-packages/skimage/io/_io.py:132: UserWarning: ./Original/Rep1/fur wo metf/fur wo metf TF7_H.tiff is a low contrast image\n",
      "  warn('%s is a low contrast image' % fname)\n",
      "/usr/local/lib/python2.7/site-packages/skimage/io/_io.py:132: UserWarning: ./Original/Rep1/argR wo metf/argR wo metf TF7_H.tiff is a low contrast image\n",
      "  warn('%s is a low contrast image' % fname)\n",
      "/usr/local/lib/python2.7/site-packages/skimage/io/_io.py:132: UserWarning: ./Original/Rep1/gcvA wo metf/gcvA wo metf TF7_H.tiff is a low contrast image\n",
      "  warn('%s is a low contrast image' % fname)\n",
      "/usr/local/lib/python2.7/site-packages/skimage/io/_io.py:132: UserWarning: ./Original/Rep2/csiR wo metf/csiR wo metf TF7_H.tiff is a low contrast image\n",
      "  warn('%s is a low contrast image' % fname)\n",
      "/usr/local/lib/python2.7/site-packages/skimage/io/_io.py:132: UserWarning: ./Original/Rep2/OP50-C wo metf/OP50-C wo metf TF7_H.tiff is a low contrast image\n",
      "  warn('%s is a low contrast image' % fname)\n",
      "/usr/local/lib/python2.7/site-packages/skimage/io/_io.py:132: UserWarning: ./Original/Rep2/arcA wo metf/arcA wo metf TF7_H.tiff is a low contrast image\n",
      "  warn('%s is a low contrast image' % fname)\n",
      "/usr/local/lib/python2.7/site-packages/skimage/io/_io.py:132: UserWarning: ./Original/Rep2/fur wo metf/fur wo metf TF7_H.tiff is a low contrast image\n",
      "  warn('%s is a low contrast image' % fname)\n",
      "/usr/local/lib/python2.7/site-packages/skimage/io/_io.py:132: UserWarning: ./Original/Rep2/argR wo metf/argR wo metf TF7_H.tiff is a low contrast image\n",
      "  warn('%s is a low contrast image' % fname)\n",
      "/usr/local/lib/python2.7/site-packages/skimage/io/_io.py:132: UserWarning: ./Additional/Rep1/nac wo metf/nac wo metf TF7_H.tiff is a low contrast image\n",
      "  warn('%s is a low contrast image' % fname)\n",
      "/usr/local/lib/python2.7/site-packages/skimage/io/_io.py:132: UserWarning: ./Original/Rep1/csiR wo metf/csiR wo metf TF8_H.tiff is a low contrast image\n",
      "  warn('%s is a low contrast image' % fname)\n",
      "/usr/local/lib/python2.7/site-packages/skimage/io/_io.py:132: UserWarning: ./Original/Rep1/ntrC wo metf/ntrC wo metf TF8_H.tiff is a low contrast image\n",
      "  warn('%s is a low contrast image' % fname)\n",
      "/usr/local/lib/python2.7/site-packages/skimage/io/_io.py:132: UserWarning: ./Original/Rep1/crp wo metf/crp wo metf TF8_H.tiff is a low contrast image\n",
      "  warn('%s is a low contrast image' % fname)\n",
      "/usr/local/lib/python2.7/site-packages/skimage/io/_io.py:132: UserWarning: ./Original/Rep1/OP50-C wo metf/OP50-C wo metf TF8_H.tiff is a low contrast image\n",
      "  warn('%s is a low contrast image' % fname)\n",
      "/usr/local/lib/python2.7/site-packages/skimage/io/_io.py:132: UserWarning: ./Original/Rep1/arcA wo metf/arcA wo metf TF8_H.tiff is a low contrast image\n",
      "  warn('%s is a low contrast image' % fname)\n",
      "/usr/local/lib/python2.7/site-packages/skimage/io/_io.py:132: UserWarning: ./Original/Rep1/fur wo metf/fur wo metf TF8_H.tiff is a low contrast image\n",
      "  warn('%s is a low contrast image' % fname)\n",
      "/usr/local/lib/python2.7/site-packages/skimage/io/_io.py:132: UserWarning: ./Original/Rep1/argR wo metf/argR wo metf TF8_H.tiff is a low contrast image\n",
      "  warn('%s is a low contrast image' % fname)\n",
      "/usr/local/lib/python2.7/site-packages/skimage/io/_io.py:132: UserWarning: ./Original/Rep1/gcvA wo metf/gcvA wo metf TF8_H.tiff is a low contrast image\n",
      "  warn('%s is a low contrast image' % fname)\n",
      "/usr/local/lib/python2.7/site-packages/skimage/io/_io.py:132: UserWarning: ./Original/Rep2/csiR wo metf/csiR wo metf TF8_H.tiff is a low contrast image\n",
      "  warn('%s is a low contrast image' % fname)\n",
      "/usr/local/lib/python2.7/site-packages/skimage/io/_io.py:132: UserWarning: ./Original/Rep2/crp wo metf/crp wo metf TF8_H.tiff is a low contrast image\n",
      "  warn('%s is a low contrast image' % fname)\n",
      "/usr/local/lib/python2.7/site-packages/skimage/io/_io.py:132: UserWarning: ./Original/Rep2/cra wo metf/cra wo metf TF8_H.tiff is a low contrast image\n",
      "  warn('%s is a low contrast image' % fname)\n",
      "/usr/local/lib/python2.7/site-packages/skimage/io/_io.py:132: UserWarning: ./Original/Rep2/fur wo metf/fur wo metf TF8_H.tiff is a low contrast image\n",
      "  warn('%s is a low contrast image' % fname)\n",
      "/usr/local/lib/python2.7/site-packages/skimage/io/_io.py:132: UserWarning: ./Original/Rep2/argR wo metf/argR wo metf TF8_H.tiff is a low contrast image\n",
      "  warn('%s is a low contrast image' % fname)\n",
      "/usr/local/lib/python2.7/site-packages/skimage/io/_io.py:132: UserWarning: ./Original/Rep2/gcvA wo metf/gcvA wo metf TF8_H.tiff is a low contrast image\n",
      "  warn('%s is a low contrast image' % fname)\n",
      "/usr/local/lib/python2.7/site-packages/skimage/io/_io.py:132: UserWarning: ./Additional/Rep2/op50-c wo metf/op50-c wo metf TF8_H.tiff is a low contrast image\n",
      "  warn('%s is a low contrast image' % fname)\n",
      "/usr/local/lib/python2.7/site-packages/skimage/io/_io.py:132: UserWarning: ./Original/Rep1/ntrC wo metf/ntrC wo metf TF9_H.tiff is a low contrast image\n",
      "  warn('%s is a low contrast image' % fname)\n",
      "/usr/local/lib/python2.7/site-packages/skimage/io/_io.py:132: UserWarning: ./Original/Rep1/crp wo metf/crp wo metf TF9_H.tiff is a low contrast image\n",
      "  warn('%s is a low contrast image' % fname)\n",
      "/usr/local/lib/python2.7/site-packages/skimage/io/_io.py:132: UserWarning: ./Original/Rep1/OP50-C wo metf/OP50-C wo metf TF9_H.tiff is a low contrast image\n",
      "  warn('%s is a low contrast image' % fname)\n",
      "/usr/local/lib/python2.7/site-packages/skimage/io/_io.py:132: UserWarning: ./Original/Rep1/arcA wo metf/arcA wo metf TF9_H.tiff is a low contrast image\n",
      "  warn('%s is a low contrast image' % fname)\n",
      "/usr/local/lib/python2.7/site-packages/skimage/io/_io.py:132: UserWarning: ./Original/Rep1/fur wo metf/fur wo metf TF9_H.tiff is a low contrast image\n",
      "  warn('%s is a low contrast image' % fname)\n",
      "/usr/local/lib/python2.7/site-packages/skimage/io/_io.py:132: UserWarning: ./Original/Rep1/argR wo metf/argR wo metf TF9_H.tiff is a low contrast image\n",
      "  warn('%s is a low contrast image' % fname)\n",
      "/usr/local/lib/python2.7/site-packages/skimage/io/_io.py:132: UserWarning: ./Original/Rep1/gcvA wo metf/gcvA wo metf TF9_H.tiff is a low contrast image\n",
      "  warn('%s is a low contrast image' % fname)\n",
      "/usr/local/lib/python2.7/site-packages/skimage/io/_io.py:132: UserWarning: ./Original/Rep2/mlc wo metf/mlc wo metf TF9_H.tiff is a low contrast image\n",
      "  warn('%s is a low contrast image' % fname)\n",
      "/usr/local/lib/python2.7/site-packages/skimage/io/_io.py:132: UserWarning: ./Original/Rep2/csiR wo metf/csiR wo metf TF9_H.tiff is a low contrast image\n",
      "  warn('%s is a low contrast image' % fname)\n",
      "/usr/local/lib/python2.7/site-packages/skimage/io/_io.py:132: UserWarning: ./Original/Rep2/ntrC wo metf/ntrC wo metf TF9_H.tiff is a low contrast image\n",
      "  warn('%s is a low contrast image' % fname)\n",
      "/usr/local/lib/python2.7/site-packages/skimage/io/_io.py:132: UserWarning: ./Original/Rep2/cra wo metf/cra wo metf TF9_H.tiff is a low contrast image\n",
      "  warn('%s is a low contrast image' % fname)\n",
      "/usr/local/lib/python2.7/site-packages/skimage/io/_io.py:132: UserWarning: ./Original/Rep2/OP50-C wo metf/OP50-C wo metf TF9_H.tiff is a low contrast image\n",
      "  warn('%s is a low contrast image' % fname)\n",
      "/usr/local/lib/python2.7/site-packages/skimage/io/_io.py:132: UserWarning: ./Original/Rep2/fur wo metf/fur wo metf TF9_H.tiff is a low contrast image\n",
      "  warn('%s is a low contrast image' % fname)\n",
      "/usr/local/lib/python2.7/site-packages/skimage/io/_io.py:132: UserWarning: ./Original/Rep2/gcvA wo metf/gcvA wo metf TF9_H.tiff is a low contrast image\n",
      "  warn('%s is a low contrast image' % fname)\n",
      "/usr/local/lib/python2.7/site-packages/skimage/io/_io.py:132: UserWarning: ./Original/Rep1/mlc wo metf/mlc wo metf TF10_H.tiff is a low contrast image\n",
      "  warn('%s is a low contrast image' % fname)\n",
      "/usr/local/lib/python2.7/site-packages/skimage/io/_io.py:132: UserWarning: ./Original/Rep1/csiR wo metf/csiR wo metf TF10_H.tiff is a low contrast image\n",
      "  warn('%s is a low contrast image' % fname)\n",
      "/usr/local/lib/python2.7/site-packages/skimage/io/_io.py:132: UserWarning: ./Original/Rep1/crp wo metf/crp wo metf TF10_H.tiff is a low contrast image\n",
      "  warn('%s is a low contrast image' % fname)\n",
      "/usr/local/lib/python2.7/site-packages/skimage/io/_io.py:132: UserWarning: ./Original/Rep1/cra wo metf/cra wo metf TF10_H.tiff is a low contrast image\n",
      "  warn('%s is a low contrast image' % fname)\n",
      "/usr/local/lib/python2.7/site-packages/skimage/io/_io.py:132: UserWarning: ./Original/Rep1/OP50-C wo metf/OP50-C wo metf TF10_H.tiff is a low contrast image\n",
      "  warn('%s is a low contrast image' % fname)\n",
      "/usr/local/lib/python2.7/site-packages/skimage/io/_io.py:132: UserWarning: ./Original/Rep1/arcA wo metf/arcA wo metf TF10_H.tiff is a low contrast image\n",
      "  warn('%s is a low contrast image' % fname)\n",
      "/usr/local/lib/python2.7/site-packages/skimage/io/_io.py:132: UserWarning: ./Original/Rep1/argR wo metf/argR wo metf TF10_H.tiff is a low contrast image\n",
      "  warn('%s is a low contrast image' % fname)\n",
      "/usr/local/lib/python2.7/site-packages/skimage/io/_io.py:132: UserWarning: ./Original/Rep1/gcvA wo metf/gcvA wo metf TF10_H.tiff is a low contrast image\n",
      "  warn('%s is a low contrast image' % fname)\n",
      "/usr/local/lib/python2.7/site-packages/skimage/io/_io.py:132: UserWarning: ./Original/Rep2/cra wo metf/cra wo metf TF10_H.tiff is a low contrast image\n",
      "  warn('%s is a low contrast image' % fname)\n",
      "/usr/local/lib/python2.7/site-packages/skimage/io/_io.py:132: UserWarning: ./Original/Rep2/arcA wo metf/arcA wo metf TF10_H.tiff is a low contrast image\n",
      "  warn('%s is a low contrast image' % fname)\n",
      "/usr/local/lib/python2.7/site-packages/skimage/io/_io.py:132: UserWarning: ./Original/Rep2/fur wo metf/fur wo metf TF10_H.tiff is a low contrast image\n",
      "  warn('%s is a low contrast image' % fname)\n",
      "/usr/local/lib/python2.7/site-packages/skimage/io/_io.py:132: UserWarning: ./Original/Rep2/argR wo metf/argR wo metf TF10_H.tiff is a low contrast image\n",
      "  warn('%s is a low contrast image' % fname)\n",
      "/usr/local/lib/python2.7/site-packages/skimage/io/_io.py:132: UserWarning: ./Original/Rep2/gcvA wo metf/gcvA wo metf TF10_H.tiff is a low contrast image\n",
      "  warn('%s is a low contrast image' % fname)\n",
      "/usr/local/lib/python2.7/site-packages/skimage/io/_io.py:132: UserWarning: ./Additional/Rep2/marA wo metf/marA wo metf TF10_H.tiff is a low contrast image\n",
      "  warn('%s is a low contrast image' % fname)\n",
      "/usr/local/lib/python2.7/site-packages/skimage/io/_io.py:132: UserWarning: ./Original/Rep1/csiR wo metf/csiR wo metf TF11_H.tiff is a low contrast image\n",
      "  warn('%s is a low contrast image' % fname)\n",
      "/usr/local/lib/python2.7/site-packages/skimage/io/_io.py:132: UserWarning: ./Original/Rep1/ntrC wo metf/ntrC wo metf TF11_H.tiff is a low contrast image\n",
      "  warn('%s is a low contrast image' % fname)\n",
      "/usr/local/lib/python2.7/site-packages/skimage/io/_io.py:132: UserWarning: ./Original/Rep1/crp wo metf/crp wo metf TF11_H.tiff is a low contrast image\n",
      "  warn('%s is a low contrast image' % fname)\n",
      "/usr/local/lib/python2.7/site-packages/skimage/io/_io.py:132: UserWarning: ./Original/Rep1/cra wo metf/cra wo metf TF11_H.tiff is a low contrast image\n",
      "  warn('%s is a low contrast image' % fname)\n",
      "/usr/local/lib/python2.7/site-packages/skimage/io/_io.py:132: UserWarning: ./Original/Rep1/OP50-C wo metf/OP50-C wo metf TF11_H.tiff is a low contrast image\n",
      "  warn('%s is a low contrast image' % fname)\n",
      "/usr/local/lib/python2.7/site-packages/skimage/io/_io.py:132: UserWarning: ./Original/Rep1/arcA wo metf/arcA wo metf TF11_H.tiff is a low contrast image\n",
      "  warn('%s is a low contrast image' % fname)\n",
      "/usr/local/lib/python2.7/site-packages/skimage/io/_io.py:132: UserWarning: ./Original/Rep1/fur wo metf/fur wo metf TF11_H.tiff is a low contrast image\n",
      "  warn('%s is a low contrast image' % fname)\n",
      "/usr/local/lib/python2.7/site-packages/skimage/io/_io.py:132: UserWarning: ./Original/Rep1/argR wo metf/argR wo metf TF11_H.tiff is a low contrast image\n",
      "  warn('%s is a low contrast image' % fname)\n",
      "/usr/local/lib/python2.7/site-packages/skimage/io/_io.py:132: UserWarning: ./Original/Rep1/gcvA wo metf/gcvA wo metf TF11_H.tiff is a low contrast image\n",
      "  warn('%s is a low contrast image' % fname)\n",
      "/usr/local/lib/python2.7/site-packages/skimage/io/_io.py:132: UserWarning: ./Original/Rep2/mlc wo metf/mlc wo metf TF11_H.tiff is a low contrast image\n",
      "  warn('%s is a low contrast image' % fname)\n",
      "/usr/local/lib/python2.7/site-packages/skimage/io/_io.py:132: UserWarning: ./Original/Rep2/csiR wo metf/csiR wo metf TF11_H.tiff is a low contrast image\n",
      "  warn('%s is a low contrast image' % fname)\n",
      "/usr/local/lib/python2.7/site-packages/skimage/io/_io.py:132: UserWarning: ./Original/Rep2/ntrC wo metf/ntrC wo metf TF11_H.tiff is a low contrast image\n",
      "  warn('%s is a low contrast image' % fname)\n",
      "/usr/local/lib/python2.7/site-packages/skimage/io/_io.py:132: UserWarning: ./Original/Rep2/cra wo metf/cra wo metf TF11_H.tiff is a low contrast image\n",
      "  warn('%s is a low contrast image' % fname)\n",
      "/usr/local/lib/python2.7/site-packages/skimage/io/_io.py:132: UserWarning: ./Original/Rep2/OP50-C wo metf/OP50-C wo metf TF11_H.tiff is a low contrast image\n",
      "  warn('%s is a low contrast image' % fname)\n",
      "/usr/local/lib/python2.7/site-packages/skimage/io/_io.py:132: UserWarning: ./Original/Rep2/fur wo metf/fur wo metf TF11_H.tiff is a low contrast image\n",
      "  warn('%s is a low contrast image' % fname)\n",
      "/usr/local/lib/python2.7/site-packages/skimage/io/_io.py:132: UserWarning: ./Original/Rep2/gcvA wo metf/gcvA wo metf TF11_H.tiff is a low contrast image\n",
      "  warn('%s is a low contrast image' % fname)\n",
      "/usr/local/lib/python2.7/site-packages/skimage/io/_io.py:132: UserWarning: ./Additional/Rep2/nac wo metf/nac wo metf TF11_H.tiff is a low contrast image\n",
      "  warn('%s is a low contrast image' % fname)\n",
      "/usr/local/lib/python2.7/site-packages/skimage/io/_io.py:132: UserWarning: ./Original/Rep1/mlc wo metf/mlc wo metf TF12_H.tiff is a low contrast image\n",
      "  warn('%s is a low contrast image' % fname)\n",
      "/usr/local/lib/python2.7/site-packages/skimage/io/_io.py:132: UserWarning: ./Original/Rep1/csiR wo metf/csiR wo metf TF12_H.tiff is a low contrast image\n",
      "  warn('%s is a low contrast image' % fname)\n",
      "/usr/local/lib/python2.7/site-packages/skimage/io/_io.py:132: UserWarning: ./Original/Rep1/crp wo metf/crp wo metf TF12_H.tiff is a low contrast image\n",
      "  warn('%s is a low contrast image' % fname)\n",
      "/usr/local/lib/python2.7/site-packages/skimage/io/_io.py:132: UserWarning: ./Original/Rep1/cra wo metf/cra wo metf TF12_H.tiff is a low contrast image\n",
      "  warn('%s is a low contrast image' % fname)\n",
      "/usr/local/lib/python2.7/site-packages/skimage/io/_io.py:132: UserWarning: ./Original/Rep1/OP50-C wo metf/OP50-C wo metf TF12_H.tiff is a low contrast image\n",
      "  warn('%s is a low contrast image' % fname)\n",
      "/usr/local/lib/python2.7/site-packages/skimage/io/_io.py:132: UserWarning: ./Original/Rep1/arcA wo metf/arcA wo metf TF12_H.tiff is a low contrast image\n",
      "  warn('%s is a low contrast image' % fname)\n",
      "/usr/local/lib/python2.7/site-packages/skimage/io/_io.py:132: UserWarning: ./Original/Rep1/fur wo metf/fur wo metf TF12_H.tiff is a low contrast image\n",
      "  warn('%s is a low contrast image' % fname)\n",
      "/usr/local/lib/python2.7/site-packages/skimage/io/_io.py:132: UserWarning: ./Original/Rep1/argR wo metf/argR wo metf TF12_H.tiff is a low contrast image\n",
      "  warn('%s is a low contrast image' % fname)\n",
      "/usr/local/lib/python2.7/site-packages/skimage/io/_io.py:132: UserWarning: ./Original/Rep1/gcvA wo metf/gcvA wo metf TF12_H.tiff is a low contrast image\n",
      "  warn('%s is a low contrast image' % fname)\n",
      "/usr/local/lib/python2.7/site-packages/skimage/io/_io.py:132: UserWarning: ./Original/Rep2/mlc wo metf/mlc wo metf TF12_H.tiff is a low contrast image\n",
      "  warn('%s is a low contrast image' % fname)\n",
      "/usr/local/lib/python2.7/site-packages/skimage/io/_io.py:132: UserWarning: ./Original/Rep2/csiR wo metf/csiR wo metf TF12_H.tiff is a low contrast image\n",
      "  warn('%s is a low contrast image' % fname)\n",
      "/usr/local/lib/python2.7/site-packages/skimage/io/_io.py:132: UserWarning: ./Original/Rep2/ntrC wo metf/ntrC wo metf TF12_H.tiff is a low contrast image\n",
      "  warn('%s is a low contrast image' % fname)\n",
      "/usr/local/lib/python2.7/site-packages/skimage/io/_io.py:132: UserWarning: ./Original/Rep2/cra wo metf/cra wo metf TF12_H.tiff is a low contrast image\n",
      "  warn('%s is a low contrast image' % fname)\n",
      "/usr/local/lib/python2.7/site-packages/skimage/io/_io.py:132: UserWarning: ./Original/Rep2/fur wo metf/fur wo metf TF12_H.tiff is a low contrast image\n",
      "  warn('%s is a low contrast image' % fname)\n",
      "/usr/local/lib/python2.7/site-packages/skimage/io/_io.py:132: UserWarning: ./Original/Rep2/argR wo metf/argR wo metf TF12_H.tiff is a low contrast image\n",
      "  warn('%s is a low contrast image' % fname)\n",
      "/usr/local/lib/python2.7/site-packages/skimage/io/_io.py:132: UserWarning: ./Original/Rep1/mlc wo metf/mlc wo metf TF13_H.tiff is a low contrast image\n",
      "  warn('%s is a low contrast image' % fname)\n",
      "/usr/local/lib/python2.7/site-packages/skimage/io/_io.py:132: UserWarning: ./Original/Rep1/csiR wo metf/csiR wo metf TF13_H.tiff is a low contrast image\n",
      "  warn('%s is a low contrast image' % fname)\n",
      "/usr/local/lib/python2.7/site-packages/skimage/io/_io.py:132: UserWarning: ./Original/Rep1/crp wo metf/crp wo metf TF13_H.tiff is a low contrast image\n",
      "  warn('%s is a low contrast image' % fname)\n",
      "/usr/local/lib/python2.7/site-packages/skimage/io/_io.py:132: UserWarning: ./Original/Rep1/cra wo metf/cra wo metf TF13_H.tiff is a low contrast image\n",
      "  warn('%s is a low contrast image' % fname)\n",
      "/usr/local/lib/python2.7/site-packages/skimage/io/_io.py:132: UserWarning: ./Original/Rep1/argR wo metf/argR wo metf TF13_H.tiff is a low contrast image\n",
      "  warn('%s is a low contrast image' % fname)\n",
      "/usr/local/lib/python2.7/site-packages/skimage/io/_io.py:132: UserWarning: ./Original/Rep1/gcvA wo metf/gcvA wo metf TF13_H.tiff is a low contrast image\n",
      "  warn('%s is a low contrast image' % fname)\n",
      "/usr/local/lib/python2.7/site-packages/skimage/io/_io.py:132: UserWarning: ./Original/Rep2/csiR wo metf/csiR wo metf TF13_H.tiff is a low contrast image\n",
      "  warn('%s is a low contrast image' % fname)\n",
      "/usr/local/lib/python2.7/site-packages/skimage/io/_io.py:132: UserWarning: ./Original/Rep2/ntrC wo metf/ntrC wo metf TF13_H.tiff is a low contrast image\n",
      "  warn('%s is a low contrast image' % fname)\n",
      "/usr/local/lib/python2.7/site-packages/skimage/io/_io.py:132: UserWarning: ./Original/Rep2/arcA wo metf/arcA wo metf TF13_H.tiff is a low contrast image\n",
      "  warn('%s is a low contrast image' % fname)\n",
      "/usr/local/lib/python2.7/site-packages/skimage/io/_io.py:132: UserWarning: ./Original/Rep2/fur wo metf/fur wo metf TF13_H.tiff is a low contrast image\n",
      "  warn('%s is a low contrast image' % fname)\n",
      "/usr/local/lib/python2.7/site-packages/skimage/io/_io.py:132: UserWarning: ./Original/Rep2/gcvA wo metf/gcvA wo metf TF13_H.tiff is a low contrast image\n",
      "  warn('%s is a low contrast image' % fname)\n",
      "/usr/local/lib/python2.7/site-packages/skimage/io/_io.py:132: UserWarning: ./Additional/Rep2/op50-c wo metf/op50-c wo metf TF13_H.tiff is a low contrast image\n",
      "  warn('%s is a low contrast image' % fname)\n",
      "/usr/local/lib/python2.7/site-packages/skimage/io/_io.py:132: UserWarning: ./Original/Rep1/mlc wo metf/mlc wo metf TF14_H.tiff is a low contrast image\n",
      "  warn('%s is a low contrast image' % fname)\n",
      "/usr/local/lib/python2.7/site-packages/skimage/io/_io.py:132: UserWarning: ./Original/Rep1/csiR wo metf/csiR wo metf TF14_H.tiff is a low contrast image\n",
      "  warn('%s is a low contrast image' % fname)\n",
      "/usr/local/lib/python2.7/site-packages/skimage/io/_io.py:132: UserWarning: ./Original/Rep1/ntrC wo metf/ntrC wo metf TF14_H.tiff is a low contrast image\n",
      "  warn('%s is a low contrast image' % fname)\n",
      "/usr/local/lib/python2.7/site-packages/skimage/io/_io.py:132: UserWarning: ./Original/Rep1/cra wo metf/cra wo metf TF14_H.tiff is a low contrast image\n",
      "  warn('%s is a low contrast image' % fname)\n",
      "/usr/local/lib/python2.7/site-packages/skimage/io/_io.py:132: UserWarning: ./Original/Rep1/fur wo metf/fur wo metf TF14_H.tiff is a low contrast image\n",
      "  warn('%s is a low contrast image' % fname)\n",
      "/usr/local/lib/python2.7/site-packages/skimage/io/_io.py:132: UserWarning: ./Original/Rep1/argR wo metf/argR wo metf TF14_H.tiff is a low contrast image\n",
      "  warn('%s is a low contrast image' % fname)\n",
      "/usr/local/lib/python2.7/site-packages/skimage/io/_io.py:132: UserWarning: ./Original/Rep1/gcvA wo metf/gcvA wo metf TF14_H.tiff is a low contrast image\n",
      "  warn('%s is a low contrast image' % fname)\n",
      "/usr/local/lib/python2.7/site-packages/skimage/io/_io.py:132: UserWarning: ./Original/Rep2/mlc wo metf/mlc wo metf TF14_H.tiff is a low contrast image\n",
      "  warn('%s is a low contrast image' % fname)\n",
      "/usr/local/lib/python2.7/site-packages/skimage/io/_io.py:132: UserWarning: ./Original/Rep2/csiR wo metf/csiR wo metf TF14_H.tiff is a low contrast image\n",
      "  warn('%s is a low contrast image' % fname)\n",
      "/usr/local/lib/python2.7/site-packages/skimage/io/_io.py:132: UserWarning: ./Original/Rep2/crp wo metf/crp wo metf TF14_H.tiff is a low contrast image\n",
      "  warn('%s is a low contrast image' % fname)\n",
      "/usr/local/lib/python2.7/site-packages/skimage/io/_io.py:132: UserWarning: ./Original/Rep2/cra wo metf/cra wo metf TF14_H.tiff is a low contrast image\n",
      "  warn('%s is a low contrast image' % fname)\n",
      "/usr/local/lib/python2.7/site-packages/skimage/io/_io.py:132: UserWarning: ./Original/Rep2/arcA wo metf/arcA wo metf TF14_H.tiff is a low contrast image\n",
      "  warn('%s is a low contrast image' % fname)\n",
      "/usr/local/lib/python2.7/site-packages/skimage/io/_io.py:132: UserWarning: ./Original/Rep2/fur wo metf/fur wo metf TF14_H.tiff is a low contrast image\n",
      "  warn('%s is a low contrast image' % fname)\n",
      "/usr/local/lib/python2.7/site-packages/skimage/io/_io.py:132: UserWarning: ./Original/Rep2/argR wo metf/argR wo metf TF14_H.tiff is a low contrast image\n",
      "  warn('%s is a low contrast image' % fname)\n",
      "/usr/local/lib/python2.7/site-packages/skimage/io/_io.py:132: UserWarning: ./Original/Rep2/gcvA wo metf/gcvA wo metf TF14_H.tiff is a low contrast image\n",
      "  warn('%s is a low contrast image' % fname)\n",
      "/usr/local/lib/python2.7/site-packages/skimage/io/_io.py:132: UserWarning: ./Additional/Rep1/op50-c wo metf/op50-c wo metf TF14_H.tiff is a low contrast image\n",
      "  warn('%s is a low contrast image' % fname)\n",
      "/usr/local/lib/python2.7/site-packages/skimage/io/_io.py:132: UserWarning: ./Original/Rep1/mlc wo metf/mlc wo metf TF15_H.tiff is a low contrast image\n",
      "  warn('%s is a low contrast image' % fname)\n",
      "/usr/local/lib/python2.7/site-packages/skimage/io/_io.py:132: UserWarning: ./Original/Rep1/ntrC wo metf/ntrC wo metf TF15_H.tiff is a low contrast image\n",
      "  warn('%s is a low contrast image' % fname)\n",
      "/usr/local/lib/python2.7/site-packages/skimage/io/_io.py:132: UserWarning: ./Original/Rep1/OP50-C wo metf/OP50-C wo metf TF15_H.tiff is a low contrast image\n",
      "  warn('%s is a low contrast image' % fname)\n",
      "/usr/local/lib/python2.7/site-packages/skimage/io/_io.py:132: UserWarning: ./Original/Rep1/arcA wo metf/arcA wo metf TF15_H.tiff is a low contrast image\n",
      "  warn('%s is a low contrast image' % fname)\n",
      "/usr/local/lib/python2.7/site-packages/skimage/io/_io.py:132: UserWarning: ./Original/Rep1/fur wo metf/fur wo metf TF15_H.tiff is a low contrast image\n",
      "  warn('%s is a low contrast image' % fname)\n",
      "/usr/local/lib/python2.7/site-packages/skimage/io/_io.py:132: UserWarning: ./Original/Rep1/argR wo metf/argR wo metf TF15_H.tiff is a low contrast image\n",
      "  warn('%s is a low contrast image' % fname)\n",
      "/usr/local/lib/python2.7/site-packages/skimage/io/_io.py:132: UserWarning: ./Original/Rep1/gcvA wo metf/gcvA wo metf TF15_H.tiff is a low contrast image\n",
      "  warn('%s is a low contrast image' % fname)\n",
      "/usr/local/lib/python2.7/site-packages/skimage/io/_io.py:132: UserWarning: ./Original/Rep2/csiR wo metf/csiR wo metf TF15_H.tiff is a low contrast image\n",
      "  warn('%s is a low contrast image' % fname)\n",
      "/usr/local/lib/python2.7/site-packages/skimage/io/_io.py:132: UserWarning: ./Original/Rep2/cra wo metf/cra wo metf TF15_H.tiff is a low contrast image\n",
      "  warn('%s is a low contrast image' % fname)\n",
      "/usr/local/lib/python2.7/site-packages/skimage/io/_io.py:132: UserWarning: ./Original/Rep2/OP50-C wo metf/OP50-C wo metf TF15_H.tiff is a low contrast image\n",
      "  warn('%s is a low contrast image' % fname)\n",
      "/usr/local/lib/python2.7/site-packages/skimage/io/_io.py:132: UserWarning: ./Original/Rep2/arcA wo metf/arcA wo metf TF15_H.tiff is a low contrast image\n",
      "  warn('%s is a low contrast image' % fname)\n",
      "/usr/local/lib/python2.7/site-packages/skimage/io/_io.py:132: UserWarning: ./Original/Rep2/gcvA wo metf/gcvA wo metf TF15_H.tiff is a low contrast image\n",
      "  warn('%s is a low contrast image' % fname)\n",
      "/usr/local/lib/python2.7/site-packages/skimage/io/_io.py:132: UserWarning: ./Additional/Rep2/op50-c wo metf/op50-c wo metf TF15_H.tiff is a low contrast image\n",
      "  warn('%s is a low contrast image' % fname)\n",
      "/usr/local/lib/python2.7/site-packages/skimage/io/_io.py:132: UserWarning: ./Original/Rep1/mlc wo metf/mlc wo metf TF16_H.tiff is a low contrast image\n",
      "  warn('%s is a low contrast image' % fname)\n",
      "/usr/local/lib/python2.7/site-packages/skimage/io/_io.py:132: UserWarning: ./Original/Rep1/csiR wo metf/csiR wo metf TF16_H.tiff is a low contrast image\n",
      "  warn('%s is a low contrast image' % fname)\n",
      "/usr/local/lib/python2.7/site-packages/skimage/io/_io.py:132: UserWarning: ./Original/Rep1/ntrC wo metf/ntrC wo metf TF16_H.tiff is a low contrast image\n",
      "  warn('%s is a low contrast image' % fname)\n",
      "/usr/local/lib/python2.7/site-packages/skimage/io/_io.py:132: UserWarning: ./Original/Rep1/crp wo metf/crp wo metf TF16_H.tiff is a low contrast image\n",
      "  warn('%s is a low contrast image' % fname)\n",
      "/usr/local/lib/python2.7/site-packages/skimage/io/_io.py:132: UserWarning: ./Original/Rep1/cra wo metf/cra wo metf TF16_H.tiff is a low contrast image\n",
      "  warn('%s is a low contrast image' % fname)\n",
      "/usr/local/lib/python2.7/site-packages/skimage/io/_io.py:132: UserWarning: ./Original/Rep1/OP50-C wo metf/OP50-C wo metf TF16_H.tiff is a low contrast image\n",
      "  warn('%s is a low contrast image' % fname)\n",
      "/usr/local/lib/python2.7/site-packages/skimage/io/_io.py:132: UserWarning: ./Original/Rep1/arcA wo metf/arcA wo metf TF16_H.tiff is a low contrast image\n",
      "  warn('%s is a low contrast image' % fname)\n",
      "/usr/local/lib/python2.7/site-packages/skimage/io/_io.py:132: UserWarning: ./Original/Rep1/argR wo metf/argR wo metf TF16_H.tiff is a low contrast image\n",
      "  warn('%s is a low contrast image' % fname)\n",
      "/usr/local/lib/python2.7/site-packages/skimage/io/_io.py:132: UserWarning: ./Original/Rep1/gcvA wo metf/gcvA wo metf TF16_H.tiff is a low contrast image\n",
      "  warn('%s is a low contrast image' % fname)\n",
      "/usr/local/lib/python2.7/site-packages/skimage/io/_io.py:132: UserWarning: ./Original/Rep2/csiR wo metf/csiR wo metf TF16_H.tiff is a low contrast image\n",
      "  warn('%s is a low contrast image' % fname)\n",
      "/usr/local/lib/python2.7/site-packages/skimage/io/_io.py:132: UserWarning: ./Original/Rep2/ntrC wo metf/ntrC wo metf TF16_H.tiff is a low contrast image\n",
      "  warn('%s is a low contrast image' % fname)\n",
      "/usr/local/lib/python2.7/site-packages/skimage/io/_io.py:132: UserWarning: ./Original/Rep2/crp wo metf/crp wo metf TF16_H.tiff is a low contrast image\n",
      "  warn('%s is a low contrast image' % fname)\n",
      "/usr/local/lib/python2.7/site-packages/skimage/io/_io.py:132: UserWarning: ./Original/Rep2/cra wo metf/cra wo metf TF16_H.tiff is a low contrast image\n",
      "  warn('%s is a low contrast image' % fname)\n",
      "/usr/local/lib/python2.7/site-packages/skimage/io/_io.py:132: UserWarning: ./Original/Rep2/fur wo metf/fur wo metf TF16_H.tiff is a low contrast image\n",
      "  warn('%s is a low contrast image' % fname)\n",
      "/usr/local/lib/python2.7/site-packages/skimage/io/_io.py:132: UserWarning: ./Original/Rep2/gcvA wo metf/gcvA wo metf TF16_H.tiff is a low contrast image\n",
      "  warn('%s is a low contrast image' % fname)\n",
      "/usr/local/lib/python2.7/site-packages/skimage/io/_io.py:132: UserWarning: ./Additional/Rep2/nac wo metf/nac wo metf TF16_H.tiff is a low contrast image\n",
      "  warn('%s is a low contrast image' % fname)\n",
      "/usr/local/lib/python2.7/site-packages/skimage/io/_io.py:132: UserWarning: ./Original/Rep1/mlc wo metf/mlc wo metf TF17_H.tiff is a low contrast image\n",
      "  warn('%s is a low contrast image' % fname)\n",
      "/usr/local/lib/python2.7/site-packages/skimage/io/_io.py:132: UserWarning: ./Original/Rep1/ntrC wo metf/ntrC wo metf TF17_H.tiff is a low contrast image\n",
      "  warn('%s is a low contrast image' % fname)\n",
      "/usr/local/lib/python2.7/site-packages/skimage/io/_io.py:132: UserWarning: ./Original/Rep1/cra wo metf/cra wo metf TF17_H.tiff is a low contrast image\n",
      "  warn('%s is a low contrast image' % fname)\n",
      "/usr/local/lib/python2.7/site-packages/skimage/io/_io.py:132: UserWarning: ./Original/Rep1/OP50-C wo metf/OP50-C wo metf TF17_H.tiff is a low contrast image\n",
      "  warn('%s is a low contrast image' % fname)\n",
      "/usr/local/lib/python2.7/site-packages/skimage/io/_io.py:132: UserWarning: ./Original/Rep1/fur wo metf/fur wo metf TF17_H.tiff is a low contrast image\n",
      "  warn('%s is a low contrast image' % fname)\n",
      "/usr/local/lib/python2.7/site-packages/skimage/io/_io.py:132: UserWarning: ./Original/Rep1/gcvA wo metf/gcvA wo metf TF17_H.tiff is a low contrast image\n",
      "  warn('%s is a low contrast image' % fname)\n",
      "/usr/local/lib/python2.7/site-packages/skimage/io/_io.py:132: UserWarning: ./Original/Rep2/cra wo metf/cra wo metf TF17_H.tiff is a low contrast image\n",
      "  warn('%s is a low contrast image' % fname)\n",
      "/usr/local/lib/python2.7/site-packages/skimage/io/_io.py:132: UserWarning: ./Original/Rep2/OP50-C wo metf/OP50-C wo metf TF17_H.tiff is a low contrast image\n",
      "  warn('%s is a low contrast image' % fname)\n",
      "/usr/local/lib/python2.7/site-packages/skimage/io/_io.py:132: UserWarning: ./Original/Rep2/fur wo metf/fur wo metf TF17_H.tiff is a low contrast image\n",
      "  warn('%s is a low contrast image' % fname)\n",
      "/usr/local/lib/python2.7/site-packages/skimage/io/_io.py:132: UserWarning: ./Original/Rep1/csiR wo metf/csiR wo metf TF18_H.tiff is a low contrast image\n",
      "  warn('%s is a low contrast image' % fname)\n",
      "/usr/local/lib/python2.7/site-packages/skimage/io/_io.py:132: UserWarning: ./Original/Rep1/ntrC wo metf/ntrC wo metf TF18_H.tiff is a low contrast image\n",
      "  warn('%s is a low contrast image' % fname)\n",
      "/usr/local/lib/python2.7/site-packages/skimage/io/_io.py:132: UserWarning: ./Original/Rep1/crp wo metf/crp wo metf TF18_H.tiff is a low contrast image\n",
      "  warn('%s is a low contrast image' % fname)\n",
      "/usr/local/lib/python2.7/site-packages/skimage/io/_io.py:132: UserWarning: ./Original/Rep1/cra wo metf/cra wo metf TF18_H.tiff is a low contrast image\n",
      "  warn('%s is a low contrast image' % fname)\n",
      "/usr/local/lib/python2.7/site-packages/skimage/io/_io.py:132: UserWarning: ./Original/Rep1/OP50-C wo metf/OP50-C wo metf TF18_H.tiff is a low contrast image\n",
      "  warn('%s is a low contrast image' % fname)\n",
      "/usr/local/lib/python2.7/site-packages/skimage/io/_io.py:132: UserWarning: ./Original/Rep1/arcA wo metf/arcA wo metf TF18_H.tiff is a low contrast image\n",
      "  warn('%s is a low contrast image' % fname)\n",
      "/usr/local/lib/python2.7/site-packages/skimage/io/_io.py:132: UserWarning: ./Original/Rep1/fur wo metf/fur wo metf TF18_H.tiff is a low contrast image\n",
      "  warn('%s is a low contrast image' % fname)\n",
      "/usr/local/lib/python2.7/site-packages/skimage/io/_io.py:132: UserWarning: ./Original/Rep1/argR wo metf/argR wo metf TF18_H.tiff is a low contrast image\n",
      "  warn('%s is a low contrast image' % fname)\n",
      "/usr/local/lib/python2.7/site-packages/skimage/io/_io.py:132: UserWarning: ./Original/Rep1/gcvA wo metf/gcvA wo metf TF18_H.tiff is a low contrast image\n",
      "  warn('%s is a low contrast image' % fname)\n",
      "/usr/local/lib/python2.7/site-packages/skimage/io/_io.py:132: UserWarning: ./Original/Rep2/fur wo metf/fur wo metf TF18_H.tiff is a low contrast image\n",
      "  warn('%s is a low contrast image' % fname)\n",
      "/usr/local/lib/python2.7/site-packages/skimage/io/_io.py:132: UserWarning: ./Original/Rep1/ntrC wo metf/ntrC wo metf TF19_H.tiff is a low contrast image\n",
      "  warn('%s is a low contrast image' % fname)\n",
      "/usr/local/lib/python2.7/site-packages/skimage/io/_io.py:132: UserWarning: ./Original/Rep2/crp wo metf/crp wo metf TF19_H.tiff is a low contrast image\n",
      "  warn('%s is a low contrast image' % fname)\n",
      "/usr/local/lib/python2.7/site-packages/skimage/io/_io.py:132: UserWarning: ./Original/Rep1/ntrC wo metf/ntrC wo metf TF20_H.tiff is a low contrast image\n",
      "  warn('%s is a low contrast image' % fname)\n",
      "/usr/local/lib/python2.7/site-packages/skimage/io/_io.py:132: UserWarning: ./Original/Rep1/gcvA wo metf/gcvA wo metf TF20_H.tiff is a low contrast image\n",
      "  warn('%s is a low contrast image' % fname)\n",
      "/usr/local/lib/python2.7/site-packages/skimage/io/_io.py:132: UserWarning: ./Original/Rep1/gcvA wo metf/gcvA wo metf TF21_H.tiff is a low contrast image\n",
      "  warn('%s is a low contrast image' % fname)\n"
     ]
    }
   ],
   "source": [
    "filelist=pd.read_csv('./Allfiles_annotated.csv')\n",
    "\n",
    "for index,row in filelist.iterrows():\n",
    "    if row['Type']=='C':\n",
    "        # and row['Replicate']==1 and row['Gene']=='arcA'\n",
    "        dataset=row['Dataset']\n",
    "        rep=row['Replicate']\n",
    "        tp=row['Type']\n",
    "        repf=row['Replicate_folder']\n",
    "        fold=row['Folder']\n",
    "        fin=row['FileNo']\n",
    "        fl=row['File']\n",
    "        fpat=\"./{}/{}/{}\".format(repf,fold,fl)\n",
    "        \n",
    "        hrepf=\"{}/Rep{}/{}\".format(dataset,rep,fold)\n",
    "        \n",
    "        if not os.path.exists(hrepf):\n",
    "            os.makedirs(hrepf)\n",
    "        \n",
    "        fheat=\"./{}/Rep{}/{}/{} TF{}_H.tiff\".format(dataset,rep,fold,fold,fin)\n",
    "        \n",
    "        #print rep, tp, fpat, fheat\n",
    "        image=images[imagesindex[fpat]]\n",
    "        #dv = rank.median(image, disk(3))\n",
    "        #Expanding \n",
    "        #comb = opening(dv, selem=disk(od))\n",
    "        \n",
    "        imgjet=jetimage(image)\n",
    "        skio.imsave(fheat,imgjet)\n",
    "        \n",
    "    "
   ]
  },
  {
   "cell_type": "markdown",
   "metadata": {},
   "source": [
    "## Segment images"
   ]
  },
  {
   "cell_type": "code",
   "execution_count": 47,
   "metadata": {
    "collapsed": true
   },
   "outputs": [],
   "source": [
    "olabels=\"Segmentation_onlyprc_additional.pkl\"\n",
    "otbl=\"All_results_onlyprc_additional.csv\""
   ]
  },
  {
   "cell_type": "code",
   "execution_count": 48,
   "metadata": {
    "collapsed": false
   },
   "outputs": [],
   "source": [
    "imagesindexsel={ik:ival for ik, ival in imagesindex.items() if \"additional\" in ik }"
   ]
  },
  {
   "cell_type": "code",
   "execution_count": 50,
   "metadata": {
    "collapsed": false
   },
   "outputs": [
    {
     "name": "stderr",
     "output_type": "stream",
     "text": [
      "/usr/local/lib/python2.7/site-packages/skimage/util/dtype.py:110: UserWarning: Possible precision loss when converting from float64 to uint8\n",
      "  \"%s to %s\" % (dtypeobj_in, dtypeobj))\n",
      "/usr/local/lib/python2.7/site-packages/skimage/util/dtype.py:110: UserWarning: Possible precision loss when converting from float64 to uint8\n",
      "  \"%s to %s\" % (dtypeobj_in, dtypeobj))\n",
      "/usr/local/lib/python2.7/site-packages/skimage/util/dtype.py:110: UserWarning: Possible precision loss when converting from float64 to uint8\n",
      "  \"%s to %s\" % (dtypeobj_in, dtypeobj))\n",
      "/usr/local/lib/python2.7/site-packages/skimage/util/dtype.py:110: UserWarning: Possible precision loss when converting from float64 to uint8\n",
      "  \"%s to %s\" % (dtypeobj_in, dtypeobj))\n",
      "/usr/local/lib/python2.7/site-packages/skimage/util/dtype.py:106: UserWarning: Possible sign loss when converting negative image of type int32 to positive image of type uint8.\n",
      "  \"%s to positive image of type %s.\" % (dtypeobj_in, dtypeobj))\n",
      "/usr/local/lib/python2.7/site-packages/skimage/util/dtype.py:136: UserWarning: Downcasting int32 to uint8 without scaling because max value 0 fits in uint8\n",
      "  warn(msg)\n",
      "/usr/local/lib/python2.7/site-packages/skimage/util/dtype.py:106: UserWarning: Possible sign loss when converting negative image of type int32 to positive image of type uint8.\n",
      "  \"%s to positive image of type %s.\" % (dtypeobj_in, dtypeobj))\n",
      "/usr/local/lib/python2.7/site-packages/skimage/util/dtype.py:136: UserWarning: Downcasting int32 to uint8 without scaling because max value 0 fits in uint8\n",
      "  warn(msg)\n",
      "/usr/local/lib/python2.7/site-packages/skimage/util/dtype.py:106: UserWarning: Possible sign loss when converting negative image of type int32 to positive image of type uint8.\n",
      "  \"%s to positive image of type %s.\" % (dtypeobj_in, dtypeobj))\n",
      "/usr/local/lib/python2.7/site-packages/skimage/util/dtype.py:136: UserWarning: Downcasting int32 to uint8 without scaling because max value 1 fits in uint8\n",
      "  warn(msg)\n",
      "/usr/local/lib/python2.7/site-packages/skimage/util/dtype.py:106: UserWarning: Possible sign loss when converting negative image of type int32 to positive image of type uint8.\n",
      "  \"%s to positive image of type %s.\" % (dtypeobj_in, dtypeobj))\n",
      "/usr/local/lib/python2.7/site-packages/skimage/util/dtype.py:136: UserWarning: Downcasting int32 to uint8 without scaling because max value 1 fits in uint8\n",
      "  warn(msg)\n"
     ]
    },
    {
     "name": "stdout",
     "output_type": "stream",
     "text": [
      "Done   2%,     4/196   remaining: 0:08:02 total: 0:08:12\n"
     ]
    },
    {
     "name": "stderr",
     "output_type": "stream",
     "text": [
      "/usr/local/lib/python2.7/site-packages/skimage/util/dtype.py:136: UserWarning: Downcasting int32 to uint8 without scaling because max value 1 fits in uint8\n",
      "  warn(msg)\n",
      "/usr/local/lib/python2.7/site-packages/skimage/util/dtype.py:136: UserWarning: Downcasting int32 to uint8 without scaling because max value 0 fits in uint8\n",
      "  warn(msg)\n",
      "/usr/local/lib/python2.7/site-packages/skimage/util/dtype.py:136: UserWarning: Downcasting int32 to uint8 without scaling because max value 1 fits in uint8\n",
      "  warn(msg)\n"
     ]
    },
    {
     "name": "stdout",
     "output_type": "stream",
     "text": [
      "Done   4%,     8/196   remaining: 0:05:53 total: 0:06:08\n",
      "Done   6%,    12/196   remaining: 0:05:07 total: 0:05:27\n",
      "Done   8%,    16/196   remaining: 0:04:41 total: 0:05:06\n"
     ]
    },
    {
     "name": "stderr",
     "output_type": "stream",
     "text": [
      "/usr/local/lib/python2.7/site-packages/skimage/util/dtype.py:136: UserWarning: Downcasting int32 to uint8 without scaling because max value 3 fits in uint8\n",
      "  warn(msg)\n"
     ]
    },
    {
     "name": "stdout",
     "output_type": "stream",
     "text": [
      "Done   8%,    17/196   remaining: 0:05:16 total: 0:05:46\n",
      "Done  10%,    20/196   remaining: 0:05:08 total: 0:05:43\n"
     ]
    },
    {
     "name": "stderr",
     "output_type": "stream",
     "text": [
      "/usr/local/lib/python2.7/site-packages/skimage/util/dtype.py:136: UserWarning: Downcasting int32 to uint8 without scaling because max value 0 fits in uint8\n",
      "  warn(msg)\n"
     ]
    },
    {
     "name": "stdout",
     "output_type": "stream",
     "text": [
      "Done  12%,    24/196   remaining: 0:04:47 total: 0:05:27\n",
      "Done  14%,    28/196   remaining: 0:04:30 total: 0:05:15\n",
      "Done  16%,    32/196   remaining: 0:04:16 total: 0:05:06\n",
      "Done  17%,    35/196   remaining: 0:04:13 total: 0:05:08\n",
      "Done  18%,    36/196   remaining: 0:04:27 total: 0:05:27\n",
      "Done  20%,    40/196   remaining: 0:04:13 total: 0:05:18\n"
     ]
    },
    {
     "name": "stderr",
     "output_type": "stream",
     "text": [
      "/usr/local/lib/python2.7/site-packages/skimage/util/dtype.py:136: UserWarning: Downcasting int32 to uint8 without scaling because max value 7 fits in uint8\n",
      "  warn(msg)\n"
     ]
    },
    {
     "name": "stdout",
     "output_type": "stream",
     "text": [
      "Done  22%,    44/196   remaining: 0:04:02 total: 0:05:12\n",
      "Done  24%,    48/196   remaining: 0:03:51 total: 0:05:06\n",
      "Done  26%,    52/196   remaining: 0:03:41 total: 0:05:01\n",
      "Done  28%,    56/196   remaining: 0:03:32 total: 0:04:57\n",
      "Done  30%,    59/196   remaining: 0:03:29 total: 0:04:59\n",
      "Done  31%,    62/196   remaining: 0:03:25 total: 0:05:00\n",
      "Done  33%,    66/196   remaining: 0:03:17 total: 0:04:57\n",
      "Done  35%,    69/196   remaining: 0:03:13 total: 0:04:58\n",
      "Done  37%,    73/196   remaining: 0:03:05 total: 0:04:55\n",
      "Done  38%,    76/196   remaining: 0:03:01 total: 0:04:56\n",
      "Done  40%,    79/196   remaining: 0:02:57 total: 0:04:58\n",
      "Done  42%,    83/196   remaining: 0:02:50 total: 0:04:55\n",
      "Done  44%,    87/196   remaining: 0:02:43 total: 0:04:53\n",
      "Done  45%,    90/196   remaining: 0:02:39 total: 0:04:54\n",
      "Done  47%,    94/196   remaining: 0:02:32 total: 0:04:52\n"
     ]
    },
    {
     "name": "stderr",
     "output_type": "stream",
     "text": [
      "/usr/local/lib/python2.7/site-packages/skimage/util/dtype.py:136: UserWarning: Downcasting int32 to uint8 without scaling because max value 5 fits in uint8\n",
      "  warn(msg)\n"
     ]
    },
    {
     "name": "stdout",
     "output_type": "stream",
     "text": [
      "Done  50%,    98/196   remaining: 0:02:25 total: 0:04:50\n",
      "Done  52%,   102/196   remaining: 0:02:18 total: 0:04:48\n",
      "Done  54%,   106/196   remaining: 0:02:11 total: 0:04:46\n",
      "Done  56%,   110/196   remaining: 0:02:05 total: 0:04:45\n",
      "Done  58%,   114/196   remaining: 0:01:58 total: 0:04:43\n",
      "Done  60%,   118/196   remaining: 0:01:52 total: 0:04:42\n",
      "Done  62%,   122/196   remaining: 0:01:46 total: 0:04:41\n",
      "Done  64%,   126/196   remaining: 0:01:40 total: 0:04:40\n",
      "Done  66%,   130/196   remaining: 0:01:34 total: 0:04:39\n",
      "Done  68%,   134/196   remaining: 0:01:27 total: 0:04:38\n",
      "Done  70%,   138/196   remaining: 0:01:22 total: 0:04:37\n",
      "Done  72%,   142/196   remaining: 0:01:16 total: 0:04:36\n",
      "Done  74%,   146/196   remaining: 0:01:10 total: 0:04:35\n",
      "Done  76%,   150/196   remaining: 0:01:04 total: 0:04:34\n",
      "Done  78%,   154/196   remaining: 0:00:58 total: 0:04:33\n",
      "Done  80%,   158/196   remaining: 0:00:52 total: 0:04:33\n",
      "Done  82%,   162/196   remaining: 0:00:47 total: 0:04:32\n",
      "Done  84%,   166/196   remaining: 0:00:41 total: 0:04:31\n",
      "Done  86%,   169/196   remaining: 0:00:37 total: 0:04:32\n",
      "Done  88%,   174/196   remaining: 0:00:30 total: 0:04:30\n"
     ]
    },
    {
     "name": "stderr",
     "output_type": "stream",
     "text": [
      "/usr/local/lib/python2.7/site-packages/skimage/util/dtype.py:136: UserWarning: Downcasting int32 to uint8 without scaling because max value 44 fits in uint8\n",
      "  warn(msg)\n"
     ]
    },
    {
     "name": "stdout",
     "output_type": "stream",
     "text": [
      "Done  90%,   178/196   remaining: 0:00:24 total: 0:04:30\n",
      "Done  92%,   181/196   remaining: 0:00:20 total: 0:04:30\n"
     ]
    },
    {
     "name": "stderr",
     "output_type": "stream",
     "text": [
      "/usr/local/lib/python2.7/site-packages/skimage/util/dtype.py:136: UserWarning: Downcasting int32 to uint8 without scaling because max value 2 fits in uint8\n",
      "  warn(msg)\n"
     ]
    },
    {
     "name": "stdout",
     "output_type": "stream",
     "text": [
      "Done  94%,   186/196   remaining: 0:00:13 total: 0:04:28\n",
      "Done  96%,   189/196   remaining: 0:00:09 total: 0:04:29\n",
      "Done  97%,   192/196   remaining: 0:00:05 total: 0:04:30\n"
     ]
    },
    {
     "name": "stderr",
     "output_type": "stream",
     "text": [
      "/usr/local/lib/python2.7/site-packages/skimage/util/dtype.py:136: UserWarning: Downcasting int32 to uint8 without scaling because max value 2 fits in uint8\n",
      "  warn(msg)\n"
     ]
    },
    {
     "name": "stdout",
     "output_type": "stream",
     "text": [
      "Done  99%,   195/196   remaining: 0:00:01 total: 0:04:31\n",
      "Collecting results....\n",
      "Done!\n",
      "Saving labels: Tue Mar 13 18:13:04 2018\n",
      "Stacking...\n",
      "Stacking complete!\n",
      "Writing...\n",
      "Zipping...\n",
      "Saving labels complete! Tue Mar 13 18:13:40 2018\n"
     ]
    }
   ],
   "source": [
    "#settings={'fd':10}\n",
    "settings={'pmax':4,'fd':10}\n",
    "\n",
    "args=[(fln,images[imagesindexsel[fln]],settings) for fln in imagesindexsel.keys()]\n",
    "\n",
    "results=multiprocessor(4,labeller4_M,args)\n",
    "\n",
    "fls, filteredarray, labelsarray, resultsarray = zip(*results)\n",
    "\n",
    "#Collect and save results\n",
    "labelsindex={fl:fli for fli,fl in enumerate(fls) }\n",
    "\n",
    "results_data=[]\n",
    "res_header=['File','Worm','W_N','W_Sum','W_Mean','B_N','B_Sum','B_Mean']\n",
    "\n",
    "for fl, respack in zip(fls, resultsarray):\n",
    "    for row in respack:\n",
    "        if len(row)>0:\n",
    "            results_data.append([fl]+row)\n",
    "            \n",
    "\n",
    "# Save results\n",
    "results=pd.DataFrame(results_data,columns=res_header)\n",
    "results.to_csv(otbl)\n",
    "\n",
    "print(\"Saving labels: {}\".format(time.ctime()))\n",
    "print \"Stacking...\"\n",
    "\n",
    "labels=np.stack(labelsarray, axis=0)\n",
    "filtered=np.stack(filteredarray, axis=0)\n",
    "print \"Stacking complete!\"\n",
    "\n",
    "print \"Writing...\"\n",
    "#f = gzip.open(olabelsgz, \"w\")\n",
    "f = open(olabels, \"w\")\n",
    "cPickle.dump((labelsindex,labels), f)\n",
    "#cPickle.dump((labelsindex,filtered,labels), f)\n",
    "f.close()\n",
    "print \"Zipping...\"\n",
    "os.system(\"gzip -f {}\".format(olabels))\n",
    "print(\"Saving labels complete! {}\".format(time.ctime()))"
   ]
  },
  {
   "cell_type": "markdown",
   "metadata": {},
   "source": [
    "### Load data"
   ]
  },
  {
   "cell_type": "code",
   "execution_count": 4,
   "metadata": {
    "collapsed": false
   },
   "outputs": [
    {
     "name": "stdout",
     "output_type": "stream",
     "text": [
      "./Allfiles_annotated.csv\n",
      "Index([u'Dataset', u'Replicate', u'Type', u'Gene', u'FileNo', u'FileInd',\n",
      "       u'Replicate_folder', u'Folder', u'File', u'Max'],\n",
      "      dtype='object')\n",
      "Necessary headers found!\n"
     ]
    }
   ],
   "source": [
    "fileinfo=readTF('./Allfiles_annotated.csv')\n",
    "filelist=pd.read_csv('./Allfiles_annotated.csv')\n",
    "genes=list(set(fileinfo['Original'].keys()+fileinfo['Additional'].keys()))\n",
    "#genes=['OP50-C']\n",
    "\n",
    "iimages=\"Images_all.pkl.gz\"\n",
    "ilabels=\"Segmentation_onlyprc_additional.pkl.gz\"\n",
    "\n",
    "ofigs=\"Segmentation_onlyprc_add/{}_{}_segmentation_onlyprc_add.pdf\"\n",
    "\n",
    "datasets=[\"Original\",\"Additional\"]\n",
    "\n",
    "repflds=['Rep1_23-8-17','Rep2_24-8-17']\n",
    "\n",
    "plt.ioff()"
   ]
  },
  {
   "cell_type": "code",
   "execution_count": 5,
   "metadata": {
    "collapsed": false
   },
   "outputs": [
    {
     "name": "stdout",
     "output_type": "stream",
     "text": [
      "Wed Mar 14 11:07:10 2018\n",
      "Loading images...\n",
      "Loading finished!\n",
      "Wed Mar 14 11:08:28 2018\n",
      "Loading labels...\n",
      "Loading finished!\n",
      "Wed Mar 14 11:08:35 2018\n"
     ]
    }
   ],
   "source": [
    "print time.ctime()\n",
    "\n",
    "print \"Loading images...\"\n",
    "imagesf = gzip.open(iimages,'rb')\n",
    "imagesindex, images = cPickle.load(imagesf)\n",
    "imagesf.close()\n",
    "print \"Loading finished!\"\n",
    "print time.ctime()\n",
    "\n",
    "print \"Loading labels...\"\n",
    "labelsf = gzip.open(ilabels,'rb')\n",
    "labelspickle = cPickle.load(labelsf)\n",
    "if len(labelspickle)==3:\n",
    "    labelsindex, filtered, labels=labelspickle\n",
    "else:\n",
    "    labelsindex, labels=labelspickle\n",
    "labelsf.close()\n",
    "print \"Loading finished!\"\n",
    "print time.ctime()"
   ]
  },
  {
   "cell_type": "code",
   "execution_count": 7,
   "metadata": {
    "collapsed": false
   },
   "outputs": [
    {
     "data": {
      "text/plain": [
       "['OP50-C', 'nac', 'marA']"
      ]
     },
     "execution_count": 7,
     "metadata": {},
     "output_type": "execute_result"
    }
   ],
   "source": [
    "fileinfo['Additional'].keys()"
   ]
  },
  {
   "cell_type": "markdown",
   "metadata": {},
   "source": [
    "### Generate figures"
   ]
  },
  {
   "cell_type": "code",
   "execution_count": 10,
   "metadata": {
    "collapsed": false
   },
   "outputs": [
    {
     "name": "stdout",
     "output_type": "stream",
     "text": [
      "Additional OP50-C\n",
      "18\n",
      "Gene: OP50-C Replicate: 1 Type: C Folder: op50-c wo metf\n",
      "./Rep1_additional/op50-c wo metf/op50-c wo metf1.tiff\n"
     ]
    },
    {
     "ename": "ValueError",
     "evalue": "The parameter `image` must be a 2-dimensional array",
     "output_type": "error",
     "traceback": [
      "\u001b[0;31m---------------------------------------------------------------------------\u001b[0m",
      "\u001b[0;31mValueError\u001b[0m                                Traceback (most recent call last)",
      "\u001b[0;32m<ipython-input-10-fc362821e763>\u001b[0m in \u001b[0;36m<module>\u001b[0;34m()\u001b[0m\n\u001b[1;32m     68\u001b[0m                         \u001b[0;31m#Load labels\u001b[0m\u001b[0;34m\u001b[0m\u001b[0;34m\u001b[0m\u001b[0m\n\u001b[1;32m     69\u001b[0m \u001b[0;34m\u001b[0m\u001b[0m\n\u001b[0;32m---> 70\u001b[0;31m                         \u001b[0mdv\u001b[0m \u001b[0;34m=\u001b[0m \u001b[0mrank\u001b[0m\u001b[0;34m.\u001b[0m\u001b[0mmedian\u001b[0m\u001b[0;34m(\u001b[0m\u001b[0mimage\u001b[0m\u001b[0;34m,\u001b[0m \u001b[0mdisk\u001b[0m\u001b[0;34m(\u001b[0m\u001b[0mfd\u001b[0m\u001b[0;34m)\u001b[0m\u001b[0;34m)\u001b[0m\u001b[0;34m\u001b[0m\u001b[0m\n\u001b[0m\u001b[1;32m     71\u001b[0m                         \u001b[0;31m#Expanding\u001b[0m\u001b[0;34m\u001b[0m\u001b[0;34m\u001b[0m\u001b[0m\n\u001b[1;32m     72\u001b[0m                         \u001b[0mcomb\u001b[0m \u001b[0;34m=\u001b[0m \u001b[0mopening\u001b[0m\u001b[0;34m(\u001b[0m\u001b[0mdv\u001b[0m\u001b[0;34m,\u001b[0m \u001b[0mselem\u001b[0m\u001b[0;34m=\u001b[0m\u001b[0mdisk\u001b[0m\u001b[0;34m(\u001b[0m\u001b[0mod\u001b[0m\u001b[0;34m)\u001b[0m\u001b[0;34m)\u001b[0m\u001b[0;34m\u001b[0m\u001b[0m\n",
      "\u001b[0;32m/usr/local/lib/python2.7/site-packages/skimage/filters/rank/generic.pyc\u001b[0m in \u001b[0;36mmedian\u001b[0;34m(image, selem, out, mask, shift_x, shift_y)\u001b[0m\n\u001b[1;32m    462\u001b[0m     return _apply_scalar_per_pixel(generic_cy._median, image, selem,\n\u001b[1;32m    463\u001b[0m                                    \u001b[0mout\u001b[0m\u001b[0;34m=\u001b[0m\u001b[0mout\u001b[0m\u001b[0;34m,\u001b[0m \u001b[0mmask\u001b[0m\u001b[0;34m=\u001b[0m\u001b[0mmask\u001b[0m\u001b[0;34m,\u001b[0m\u001b[0;34m\u001b[0m\u001b[0m\n\u001b[0;32m--> 464\u001b[0;31m                                    shift_x=shift_x, shift_y=shift_y)\n\u001b[0m\u001b[1;32m    465\u001b[0m \u001b[0;34m\u001b[0m\u001b[0m\n\u001b[1;32m    466\u001b[0m \u001b[0;34m\u001b[0m\u001b[0m\n",
      "\u001b[0;32m/usr/local/lib/python2.7/site-packages/skimage/filters/rank/generic.pyc\u001b[0m in \u001b[0;36m_apply_scalar_per_pixel\u001b[0;34m(func, image, selem, out, mask, shift_x, shift_y, out_dtype)\u001b[0m\n\u001b[1;32m     75\u001b[0m \u001b[0;34m\u001b[0m\u001b[0m\n\u001b[1;32m     76\u001b[0m     image, selem, out, mask, max_bin = _handle_input(image, selem, out, mask,\n\u001b[0;32m---> 77\u001b[0;31m                                                      out_dtype)\n\u001b[0m\u001b[1;32m     78\u001b[0m \u001b[0;34m\u001b[0m\u001b[0m\n\u001b[1;32m     79\u001b[0m     func(image, selem, shift_x=shift_x, shift_y=shift_y, mask=mask,\n",
      "\u001b[0;32m/usr/local/lib/python2.7/site-packages/skimage/filters/rank/generic.pyc\u001b[0m in \u001b[0;36m_handle_input\u001b[0;34m(image, selem, out, mask, out_dtype, pixel_size)\u001b[0m\n\u001b[1;32m     32\u001b[0m \u001b[0;32mdef\u001b[0m \u001b[0m_handle_input\u001b[0m\u001b[0;34m(\u001b[0m\u001b[0mimage\u001b[0m\u001b[0;34m,\u001b[0m \u001b[0mselem\u001b[0m\u001b[0;34m,\u001b[0m \u001b[0mout\u001b[0m\u001b[0;34m,\u001b[0m \u001b[0mmask\u001b[0m\u001b[0;34m,\u001b[0m \u001b[0mout_dtype\u001b[0m\u001b[0;34m=\u001b[0m\u001b[0mNone\u001b[0m\u001b[0;34m,\u001b[0m \u001b[0mpixel_size\u001b[0m\u001b[0;34m=\u001b[0m\u001b[0;36m1\u001b[0m\u001b[0;34m)\u001b[0m\u001b[0;34m:\u001b[0m\u001b[0;34m\u001b[0m\u001b[0m\n\u001b[1;32m     33\u001b[0m \u001b[0;34m\u001b[0m\u001b[0m\n\u001b[0;32m---> 34\u001b[0;31m     \u001b[0massert_nD\u001b[0m\u001b[0;34m(\u001b[0m\u001b[0mimage\u001b[0m\u001b[0;34m,\u001b[0m \u001b[0;36m2\u001b[0m\u001b[0;34m)\u001b[0m\u001b[0;34m\u001b[0m\u001b[0m\n\u001b[0m\u001b[1;32m     35\u001b[0m     \u001b[0;32mif\u001b[0m \u001b[0mimage\u001b[0m\u001b[0;34m.\u001b[0m\u001b[0mdtype\u001b[0m \u001b[0;32mnot\u001b[0m \u001b[0;32min\u001b[0m \u001b[0;34m(\u001b[0m\u001b[0mnp\u001b[0m\u001b[0;34m.\u001b[0m\u001b[0muint8\u001b[0m\u001b[0;34m,\u001b[0m \u001b[0mnp\u001b[0m\u001b[0;34m.\u001b[0m\u001b[0muint16\u001b[0m\u001b[0;34m)\u001b[0m\u001b[0;34m:\u001b[0m\u001b[0;34m\u001b[0m\u001b[0m\n\u001b[1;32m     36\u001b[0m         \u001b[0mimage\u001b[0m \u001b[0;34m=\u001b[0m \u001b[0mimg_as_ubyte\u001b[0m\u001b[0;34m(\u001b[0m\u001b[0mimage\u001b[0m\u001b[0;34m)\u001b[0m\u001b[0;34m\u001b[0m\u001b[0m\n",
      "\u001b[0;32m/usr/local/lib/python2.7/site-packages/skimage/_shared/utils.pyc\u001b[0m in \u001b[0;36massert_nD\u001b[0;34m(array, ndim, arg_name)\u001b[0m\n\u001b[1;32m    164\u001b[0m         \u001b[0mndim\u001b[0m \u001b[0;34m=\u001b[0m \u001b[0;34m[\u001b[0m\u001b[0mndim\u001b[0m\u001b[0;34m]\u001b[0m\u001b[0;34m\u001b[0m\u001b[0m\n\u001b[1;32m    165\u001b[0m     \u001b[0;32mif\u001b[0m \u001b[0;32mnot\u001b[0m \u001b[0marray\u001b[0m\u001b[0;34m.\u001b[0m\u001b[0mndim\u001b[0m \u001b[0;32min\u001b[0m \u001b[0mndim\u001b[0m\u001b[0;34m:\u001b[0m\u001b[0;34m\u001b[0m\u001b[0m\n\u001b[0;32m--> 166\u001b[0;31m         \u001b[0;32mraise\u001b[0m \u001b[0mValueError\u001b[0m\u001b[0;34m(\u001b[0m\u001b[0mmsg\u001b[0m \u001b[0;34m%\u001b[0m \u001b[0;34m(\u001b[0m\u001b[0marg_name\u001b[0m\u001b[0;34m,\u001b[0m \u001b[0;34m'-or-'\u001b[0m\u001b[0;34m.\u001b[0m\u001b[0mjoin\u001b[0m\u001b[0;34m(\u001b[0m\u001b[0;34m[\u001b[0m\u001b[0mstr\u001b[0m\u001b[0;34m(\u001b[0m\u001b[0mn\u001b[0m\u001b[0;34m)\u001b[0m \u001b[0;32mfor\u001b[0m \u001b[0mn\u001b[0m \u001b[0;32min\u001b[0m \u001b[0mndim\u001b[0m\u001b[0;34m]\u001b[0m\u001b[0;34m)\u001b[0m\u001b[0;34m)\u001b[0m\u001b[0;34m)\u001b[0m\u001b[0;34m\u001b[0m\u001b[0m\n\u001b[0m\u001b[1;32m    167\u001b[0m \u001b[0;34m\u001b[0m\u001b[0m\n\u001b[1;32m    168\u001b[0m \u001b[0;34m\u001b[0m\u001b[0m\n",
      "\u001b[0;31mValueError\u001b[0m: The parameter `image` must be a 2-dimensional array"
     ]
    }
   ],
   "source": [
    "#def plotTF_M((gene,ofigs,fileinfo,imagesindex,images,labelsindex,filtered,labels, settings,q)):\n",
    "    #ofigs,fileinfo, imagesindex, labelsindex, filtered, labels,\n",
    "    #global\n",
    "    \n",
    "#     fileinfo=Afileinfo\n",
    "#     imagesindex=Aimagesindex\n",
    "#     images=Aimages\n",
    "#     labelsindex=Alabelsindex\n",
    "#     filtered=Afiltered\n",
    "#     labels=Alabels\n",
    "\n",
    "fd=10\n",
    "od=5\n",
    "\n",
    "for dataset in [\"Additional\"]: #\"Original\",\n",
    "    genes=fileinfo[dataset].keys()\n",
    "    for gene in genes:   \n",
    "        if gene=='OP50-C' and dataset==\"Original\":\n",
    "            nflds=6*2\n",
    "        else:\n",
    "            nflds=4*2\n",
    "        print dataset, gene\n",
    "        \n",
    "        gval=fileinfo[dataset][gene]\n",
    "        gmax = gval['Max']\n",
    "        print gmax\n",
    "\n",
    "        fwidth=6*nflds\n",
    "        fheight=5*gmax\n",
    "\n",
    "        #print nflds, gmax, fwidth, fheight\n",
    "        fig, axes = plt.subplots(nrows=gmax, ncols=nflds, figsize=(fwidth,fheight), dpi=300)\n",
    "        ofile=ofigs.format(dataset,gene)\n",
    "\n",
    "        #print ofile\n",
    "        col=0\n",
    "        for rep in [1,2]:\n",
    "            repval = gval[rep]\n",
    "            \n",
    "            if dataset==\"Original\":\n",
    "                repfld=repflds[rep-1]\n",
    "            else:\n",
    "                repfld=\"Rep{}_additional\".format(rep)\n",
    "            \n",
    "            \n",
    "            for tp in ['C','T']:\n",
    "                tpval=repval[tp]\n",
    "                for fld, fldvals in tpval.iteritems():\n",
    "                    print \"Gene: {} Replicate: {} Type: {} Folder: {}\".format(gene, rep, tp, fld)\n",
    "                    fldcontsel=fldvals['ByFIN']\n",
    "                    #print fldcontsel.keys()\n",
    "\n",
    "                    row=0\n",
    "                    for fli in fldcontsel.keys():\n",
    "                        fl=fldcontsel[fli]\n",
    "                        \n",
    "                        flfull=\"./{}/{}/{}\".format(repfld,fld,fl)\n",
    "                        print flfull #, os.path.isfile(flfull)\n",
    "\n",
    "                        #GetRGB data from a collapsed image\n",
    "                        image_raw=images[imagesindex[flfull]]\n",
    "                        if np.ndim(image_raw)==2:\n",
    "                            #v=image_raw\n",
    "                            image=color.gray2rgb(image_raw)\n",
    "                        else:\n",
    "                            #v=color.rgb2hsv(image)[:,:,2]\n",
    "                            image=image_raw\n",
    "                        #Load labels\n",
    "                        \n",
    "                        dv = rank.median(image_raw, disk(fd))\n",
    "                        #Expanding \n",
    "                        comb = opening(dv, selem=disk(od))\n",
    "\n",
    "                        imagef=skimage.img_as_ubyte(comb)#filtered[labelsindex[flfull]]\n",
    "                        \n",
    "                        labeled_worms=labels[labelsindex[flfull]]\n",
    "\n",
    "                        plotcontours(imagef,axes[row,col],ylabel=fl,title=\"{} - {}\".format(rep,fld),plotcontour=False,plotlabels=False,white=False)\n",
    "                        plotcontours(image,axes[row,col+1],labeled_worms,title=\"{}\".format(fli),plotlabels=False)\n",
    "                        row+=1 \n",
    "\n",
    "                        #q.put(flfull) \n",
    "                    col+=2\n",
    "\n",
    "        #fig.tight_layout()\n",
    "        fig.savefig(ofile, bbox_inches='tight')\n",
    "        plt.close(fig)\n",
    "\n",
    "print \"Finished!\""
   ]
  },
  {
   "cell_type": "markdown",
   "metadata": {},
   "source": [
    "## Multiprocessing figures - does not work"
   ]
  },
  {
   "cell_type": "code",
   "execution_count": 22,
   "metadata": {
    "collapsed": true
   },
   "outputs": [],
   "source": [
    "Aimages=Array(c_double,images.shape)\n",
    "Aimages=images.copy()\n",
    "\n",
    "Alabels=Array(c_double,labels.shape)\n",
    "Alabels=labels.copy()\n",
    "\n",
    "Afiltered=Array(c_double,filtered.shape)\n",
    "Afiltered=filtered.copy()\n",
    "\n",
    "m = Manager()\n",
    "Afileinfo=m.dict()\n",
    "Afileinfo.update(fileinfo)\n",
    "\n",
    "Aimagesindex=m.dict()\n",
    "Aimagesindex.update(imagesindex)\n",
    "\n",
    "Alabelsindex=m.dict()\n",
    "Alabelsindex.update(labelsindex)\n",
    "\n",
    "settings={}\n",
    "\n",
    "#global fileinfo, imagesindex, images, labelsindex,filtered, labels\n",
    "\n",
    "#global Afileinfo,Aimagesindex,Aimages,Alabelsindex,Afiltered,Alabels\n",
    "\n",
    "args=[(gene,ofigs,Afileinfo,Aimagesindex,Aimages,Alabelsindex,Afiltered,Alabels, settings) for gene in genes]\n",
    "\n",
    "results=multiprocessor(4,plotTF_M,args,filelist.shape[0])\n"
   ]
  }
 ],
 "metadata": {
  "kernelspec": {
   "display_name": "Python 2",
   "language": "python",
   "name": "python2"
  },
  "language_info": {
   "codemirror_mode": {
    "name": "ipython",
    "version": 2
   },
   "file_extension": ".py",
   "mimetype": "text/x-python",
   "name": "python",
   "nbconvert_exporter": "python",
   "pygments_lexer": "ipython2",
   "version": "2.7.11"
  }
 },
 "nbformat": 4,
 "nbformat_minor": 2
}
