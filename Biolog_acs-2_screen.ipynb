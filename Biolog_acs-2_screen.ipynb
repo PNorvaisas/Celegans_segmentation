{
 "cells": [
  {
   "cell_type": "markdown",
   "metadata": {},
   "source": [
    "# Biolog acs-2 screen"
   ]
  },
  {
   "cell_type": "code",
   "execution_count": 9,
   "metadata": {},
   "outputs": [],
   "source": [
    "%matplotlib inline\n",
    "import os\n",
    "import sys\n",
    "import tifffile as tiff\n",
    "import pandas as pd\n",
    "import matplotlib\n",
    "# For visualising\n",
    "#matplotlib.use('MacOSX') \n",
    "# For saving\n",
    "#matplotlib.use('Agg') \n",
    "matplotlib.use('MacOSX') #TkAgg\n",
    "import matplotlib.pyplot as plt\n",
    "\n",
    "import numpy as np\n",
    "import itertools as IT\n",
    "import time\n",
    "import glob\n",
    "import skimage\n",
    "from skimage import io as skio\n",
    "from skimage import color\n",
    "\n",
    "import cPickle\n",
    "import gzip\n",
    "\n",
    "import datetime\n",
    "from multiprocessing import Pool, Manager\n",
    "from multiprocessing.sharedctypes import Value, Array\n",
    "from ctypes import Structure, c_double, c_int\n",
    "\n",
    "import re\n",
    "\n",
    "sys.path.append(\"./src\")\n",
    "from utilities import *\n",
    "\n",
    "#plt.interactive(True)\n",
    "matplotlib.rcParams.update({'font.size': 12})\n",
    "np.set_printoptions(precision=3)"
   ]
  },
  {
   "cell_type": "code",
   "execution_count": 10,
   "metadata": {},
   "outputs": [],
   "source": [
    "os.chdir(\"/Users/Povilas/Dropbox/Projects/Metformin_Celegans_Biolog\")\n",
    "sourceloc = \"/Users/Povilas/Dropbox/Projects/Metformin_Celegans_Biolog\"\n",
    "\n",
    "# os.chdir(\"/home/pnorv/Dropbox/Projects/Metformin_TF_acs-2/\")\n",
    "# sourceloc = \"home/pnorv/Dropbox/Projects/Metformin_TF_acs-2/\"\n",
    "\n",
    "odir=\".\""
   ]
  },
  {
   "cell_type": "code",
   "execution_count": 4,
   "metadata": {},
   "outputs": [],
   "source": [
    "filedata=[]\n",
    "header=['Replicate_folder','Folder','File']\n",
    "filedata.append(header)\n",
    "\n",
    "allfiles=glob.glob('./Rep*/*/*.tif')\n",
    "\n",
    "for fl in allfiles:\n",
    "    rep,plate,fln=fl.split('/')[1:]\n",
    "    filedata.append([rep,plate,fln])\n",
    "    #print rep, fld, fln\n",
    "    \n",
    "writecsv(filedata,'Allfiles.csv')"
   ]
  },
  {
   "cell_type": "markdown",
   "metadata": {},
   "source": [
    "## Collect images"
   ]
  },
  {
   "cell_type": "code",
   "execution_count": 8,
   "metadata": {
    "collapsed": true
   },
   "outputs": [],
   "source": [
    "#filelist=pd.read_csv('./Allfiles_annotated.csv')\n",
    "oimages=\"Images_HV.pkl\"\n",
    "#iimagesgz=\"Images.pkl.gz\"\n",
    "#oimagesgz=\"Images.pkl.gz\""
   ]
  },
  {
   "cell_type": "code",
   "execution_count": null,
   "metadata": {},
   "outputs": [],
   "source": [
    "settings={'colordepth':'uint8','savetype':'HV'}\n",
    "args=[(fl,settings,) for fl in allfiles]\n",
    "\n",
    "results=multiprocessor(4,collector_M,args)\n",
    "\n",
    "fls,imagesarray=zip(*results)\n",
    "\n",
    "imagesindex={fl:fli for fli,fl in enumerate(fls) }\n",
    "\n",
    "print(\"Saving images: {}\".format(time.ctime()))\n",
    "print \"Stacking...\"\n",
    "images=np.stack(imagesarray, axis=0)\n",
    "print \"Done!\"\n",
    "\n",
    "f = open(oimages, \"w\")\n",
    "#f = gzip.open(oimagesgz, \"w\")\n",
    "print \"Writing...\"\n",
    "cPickle.dump((imagesindex,images), f)\n",
    "f.close()\n",
    "os.system(\"gzip {}\".format(oimages))\n",
    "print(\"Saving images complete!\")"
   ]
  },
  {
   "cell_type": "markdown",
   "metadata": {},
   "source": [
    "## Save a random subset of all images for testing"
   ]
  },
  {
   "cell_type": "code",
   "execution_count": 82,
   "metadata": {
    "scrolled": true
   },
   "outputs": [
    {
     "name": "stdout",
     "output_type": "stream",
     "text": [
      "100 100\n",
      "Stacking...\n",
      "Writing...\n",
      "Zipping...\n",
      "Saving images complete!\n"
     ]
    }
   ],
   "source": [
    "collectsubset(\"Images_test\",[images],imagesindex,size=50)"
   ]
  },
  {
   "cell_type": "markdown",
   "metadata": {},
   "source": [
    "## Load images"
   ]
  },
  {
   "cell_type": "code",
   "execution_count": 11,
   "metadata": {},
   "outputs": [
    {
     "name": "stdout",
     "output_type": "stream",
     "text": [
      "Sun Mar  4 15:18:19 2018\n",
      "Loading images... Sun Mar  4 15:18:19 2018\n",
      "Loading finished! Sun Mar  4 15:18:27 2018\n",
      "Sun Mar  4 15:18:27 2018\n"
     ]
    }
   ],
   "source": [
    "#imagesgz=\"Images_HV.pkl.gz\"\n",
    "imagesgz=\"Images_test.pkl.gz\"\n",
    "\n",
    "print time.ctime()\n",
    "print \"Loading images... {}\".format(time.ctime())\n",
    "idata = gzip.open(imagesgz,'rb')\n",
    "imagesindex, images = cPickle.load(idata)\n",
    "idata.close()\n",
    "print \"Loading finished! {}\".format(time.ctime())\n",
    "print time.ctime()"
   ]
  },
  {
   "cell_type": "code",
   "execution_count": 12,
   "metadata": {},
   "outputs": [
    {
     "data": {
      "text/plain": [
       "(100, 1040, 1392, 2)"
      ]
     },
     "execution_count": 12,
     "metadata": {},
     "output_type": "execute_result"
    }
   ],
   "source": [
    "images.shape"
   ]
  },
  {
   "cell_type": "markdown",
   "metadata": {},
   "source": [
    "## Segmentation testing"
   ]
  },
  {
   "cell_type": "code",
   "execution_count": 13,
   "metadata": {
    "collapsed": true
   },
   "outputs": [],
   "source": [
    "olabels=\"Segmentation_test.pkl\"\n",
    "otbl=\"All_results_test.csv\"\n",
    "\n",
    "filesel=imagesindex.keys()[:50]\n",
    "ofig=\"Test.pdf\""
   ]
  },
  {
   "cell_type": "code",
   "execution_count": 14,
   "metadata": {},
   "outputs": [
    {
     "name": "stderr",
     "output_type": "stream",
     "text": [
      "/usr/local/lib/python2.7/site-packages/skimage/util/dtype.py:110: UserWarning: Possible precision loss when converting from float64 to uint8\n",
      "  \"%s to %s\" % (dtypeobj_in, dtypeobj))\n",
      "/usr/local/lib/python2.7/site-packages/skimage/util/dtype.py:110: UserWarning: Possible precision loss when converting from float64 to uint8\n",
      "  \"%s to %s\" % (dtypeobj_in, dtypeobj))\n",
      "/usr/local/lib/python2.7/site-packages/skimage/util/dtype.py:110: UserWarning: Possible precision loss when converting from float64 to uint8\n",
      "  \"%s to %s\" % (dtypeobj_in, dtypeobj))\n",
      "/usr/local/lib/python2.7/site-packages/skimage/util/dtype.py:110: UserWarning: Possible precision loss when converting from float64 to uint8\n",
      "  \"%s to %s\" % (dtypeobj_in, dtypeobj))\n"
     ]
    },
    {
     "name": "stdout",
     "output_type": "stream",
     "text": [
      "Collecting results....\n"
     ]
    },
    {
     "ename": "IndexError",
     "evalue": "too many indices for array",
     "output_type": "error",
     "traceback": [
      "\u001b[0;31m---------------------------------------------------------------------------\u001b[0m",
      "\u001b[0;31mIndexError\u001b[0m                                Traceback (most recent call last)",
      "\u001b[0;32m<ipython-input-14-90b6d14f5b68>\u001b[0m in \u001b[0;36m<module>\u001b[0;34m()\u001b[0m\n\u001b[1;32m      3\u001b[0m \u001b[0margs\u001b[0m\u001b[0;34m=\u001b[0m\u001b[0;34m[\u001b[0m\u001b[0;34m(\u001b[0m\u001b[0mfln\u001b[0m\u001b[0;34m,\u001b[0m\u001b[0mimages\u001b[0m\u001b[0;34m[\u001b[0m\u001b[0mimagesindex\u001b[0m\u001b[0;34m[\u001b[0m\u001b[0mfln\u001b[0m\u001b[0;34m]\u001b[0m\u001b[0;34m]\u001b[0m\u001b[0;34m,\u001b[0m\u001b[0msettings\u001b[0m\u001b[0;34m)\u001b[0m \u001b[0;32mfor\u001b[0m \u001b[0mfln\u001b[0m \u001b[0;32min\u001b[0m \u001b[0mfilesel\u001b[0m\u001b[0;34m]\u001b[0m\u001b[0;34m\u001b[0m\u001b[0m\n\u001b[1;32m      4\u001b[0m \u001b[0;34m\u001b[0m\u001b[0m\n\u001b[0;32m----> 5\u001b[0;31m \u001b[0mresults\u001b[0m\u001b[0;34m=\u001b[0m\u001b[0mmultiprocessor\u001b[0m\u001b[0;34m(\u001b[0m\u001b[0;36m4\u001b[0m\u001b[0;34m,\u001b[0m\u001b[0mlabeller5_M\u001b[0m\u001b[0;34m,\u001b[0m\u001b[0margs\u001b[0m\u001b[0;34m)\u001b[0m\u001b[0;34m\u001b[0m\u001b[0m\n\u001b[0m\u001b[1;32m      6\u001b[0m \u001b[0;34m\u001b[0m\u001b[0m\n\u001b[1;32m      7\u001b[0m \u001b[0mfls\u001b[0m\u001b[0;34m,\u001b[0m \u001b[0mfilteredarray\u001b[0m\u001b[0;34m,\u001b[0m \u001b[0mlabelsarray\u001b[0m\u001b[0;34m,\u001b[0m \u001b[0mresultsarray\u001b[0m \u001b[0;34m=\u001b[0m \u001b[0mzip\u001b[0m\u001b[0;34m(\u001b[0m\u001b[0;34m*\u001b[0m\u001b[0mresults\u001b[0m\u001b[0;34m)\u001b[0m\u001b[0;34m\u001b[0m\u001b[0m\n",
      "\u001b[0;32m/Users/Povilas/Scripts/Celegans_segmentation/src/utilities.py\u001b[0m in \u001b[0;36mmultiprocessor\u001b[0;34m(cores, func, args, nargs)\u001b[0m\n\u001b[1;32m    402\u001b[0m         \u001b[0mtime\u001b[0m\u001b[0;34m.\u001b[0m\u001b[0msleep\u001b[0m\u001b[0;34m(\u001b[0m\u001b[0;36m5\u001b[0m\u001b[0;34m)\u001b[0m\u001b[0;34m\u001b[0m\u001b[0m\n\u001b[1;32m    403\u001b[0m     \u001b[0;32mprint\u001b[0m \u001b[0;34m'Collecting results....'\u001b[0m\u001b[0;34m\u001b[0m\u001b[0m\n\u001b[0;32m--> 404\u001b[0;31m     \u001b[0mresults\u001b[0m\u001b[0;34m=\u001b[0m\u001b[0mresult\u001b[0m\u001b[0;34m.\u001b[0m\u001b[0mget\u001b[0m\u001b[0;34m(\u001b[0m\u001b[0;34m)\u001b[0m\u001b[0;34m\u001b[0m\u001b[0m\n\u001b[0m\u001b[1;32m    405\u001b[0m     \u001b[0;32mprint\u001b[0m \u001b[0;34m'Done!'\u001b[0m\u001b[0;34m\u001b[0m\u001b[0m\n\u001b[1;32m    406\u001b[0m     \u001b[0;31m#print results\u001b[0m\u001b[0;34m\u001b[0m\u001b[0;34m\u001b[0m\u001b[0m\n",
      "\u001b[0;32m/usr/local/lib/python2.7/site-packages/multiprocessing/pool.pyc\u001b[0m in \u001b[0;36mget\u001b[0;34m(self, timeout)\u001b[0m\n\u001b[1;32m    420\u001b[0m             \u001b[0;32mreturn\u001b[0m \u001b[0mself\u001b[0m\u001b[0;34m.\u001b[0m\u001b[0m_value\u001b[0m\u001b[0;34m\u001b[0m\u001b[0m\n\u001b[1;32m    421\u001b[0m         \u001b[0;32melse\u001b[0m\u001b[0;34m:\u001b[0m\u001b[0;34m\u001b[0m\u001b[0m\n\u001b[0;32m--> 422\u001b[0;31m             \u001b[0;32mraise\u001b[0m \u001b[0mself\u001b[0m\u001b[0;34m.\u001b[0m\u001b[0m_value\u001b[0m\u001b[0;34m\u001b[0m\u001b[0m\n\u001b[0m\u001b[1;32m    423\u001b[0m \u001b[0;34m\u001b[0m\u001b[0m\n\u001b[1;32m    424\u001b[0m     \u001b[0;32mdef\u001b[0m \u001b[0m_set\u001b[0m\u001b[0;34m(\u001b[0m\u001b[0mself\u001b[0m\u001b[0;34m,\u001b[0m \u001b[0mi\u001b[0m\u001b[0;34m,\u001b[0m \u001b[0mobj\u001b[0m\u001b[0;34m)\u001b[0m\u001b[0;34m:\u001b[0m\u001b[0;34m\u001b[0m\u001b[0m\n",
      "\u001b[0;31mIndexError\u001b[0m: too many indices for array"
     ]
    }
   ],
   "source": [
    "settings={'fd':10}\n",
    "\n",
    "args=[(fln,images[imagesindex[fln]],settings) for fln in filesel]\n",
    "\n",
    "results=multiprocessor(4,labeller5_M,args)\n",
    "\n",
    "fls, filteredarray, labelsarray, resultsarray = zip(*results)\n",
    "\n",
    "#Collect and save results\n",
    "labelsindex={fl:fli for fli,fl in enumerate(fls) }\n",
    "\n",
    "\n",
    "results_data=[]\n",
    "res_header=['File','Worm','W_N','W_Sum','W_Mean','B_N','B_Sum','B_Mean']\n",
    "\n",
    "for fl, respack in zip(fls, resultsarray):\n",
    "    for row in respack:\n",
    "        if len(row)>0:\n",
    "            results_data.append([fl]+row)    \n",
    "\n",
    "# Save results\n",
    "results=pd.DataFrame(results_data,columns=res_header)\n",
    "results.to_csv(otbl)\n",
    "\n",
    "print(\"Saving labels: {}\".format(time.ctime()))\n",
    "print \"Stacking...\"\n",
    "\n",
    "labels=np.stack(labelsarray, axis=0)\n",
    "filtered=np.stack(filteredarray, axis=0)\n",
    "print \"Stacking complete!\"\n",
    "\n",
    "print \"Writing...\"\n",
    "#f = gzip.open(olabelsgz, \"w\")\n",
    "f = open(olabels, \"w\")\n",
    "#cPickle.dump((labelsindex,labels), f)\n",
    "cPickle.dump((labelsindex,filtered,labels), f)\n",
    "f.close()\n",
    "print \"Zipping...\"\n",
    "os.system(\"gzip -f {}\".format(olabels))\n",
    "print(\"Saving labels complete! {}\".format(time.ctime()))"
   ]
  },
  {
   "cell_type": "code",
   "execution_count": null,
   "metadata": {},
   "outputs": [],
   "source": [
    "# rndsel=np.random.randint(len(allfiles)-1,size=5)\n",
    "#filesel=[ allfiles[i] for i in rndsel ]\n",
    "\n",
    "ncols=2\n",
    "row=0\n",
    "\n",
    "\n",
    "fig, axes = plt.subplots(nrows=len(filesel), ncols=2, figsize=(6*ncols,5*len(filesel)), dpi=300)\n",
    "#fig.suptitle('{}-{}'.format(replicate, plate), fontsize=40)\n",
    "#plt.subplots_adjust(left=0.1, bottom=0.1, right=0.95, top=2, wspace=0.5, hspace=0.1)\n",
    "\n",
    "\n",
    "for flid, fl in enumerate(filesel):\n",
    "    print(fl)\n",
    "    \n",
    "    rep,fld,fln=fl.split('/')[1:]\n",
    "    flname,flex=fln.split('.')\n",
    "    \n",
    "\n",
    "    #GetRGB data from a collapsed image\n",
    "    image_raw=images[imagesindex[fl]]\n",
    "    \n",
    "    if np.ndim(image_raw)==2:\n",
    "        #image=color.gray2rgb(image_raw)\n",
    "        v=image_raw\n",
    "    else:\n",
    "        #image=image_raw\n",
    "        v = color.rgb2hsv(image_raw)[:,:,2]\n",
    "        \n",
    "    image_jet=jetimage(v,typeadjust=False)\n",
    "    labeled_worms=labels[labelsindex[fl]]\n",
    "\n",
    "    plotcontours(image_jet,axes[row,0],ylabel=flname,title='Normalised intensity',plotcontour=False,plotlabels=False,white=False)\n",
    "    plotcontours(image,axes[row,1],labeled_worms,title='Segmented',plotlabels=True,white=True)\n",
    "    row+=1\n",
    "\n",
    "#fig.tight_layout()\n",
    "fig.savefig(ofig, bbox_inches='tight')\n",
    "plt.close(fig)\n",
    "\n",
    "\n",
    "print time.ctime()\n",
    "\n"
   ]
  },
  {
   "cell_type": "code",
   "execution_count": 15,
   "metadata": {},
   "outputs": [
    {
     "name": "stdout",
     "output_type": "stream",
     "text": [
      "/Users/Povilas/Dropbox/Projects/2015-Metformin/Biolog_Met_NGM/Celegans/Deletions.csv\n",
      "Necessary headers found!\n",
      "/Users/Povilas/Dropbox/Projects/2015-Metformin/Biolog_Met_NGM/Celegans/Thresholds_all_3.csv\n",
      "Necessary headers found!\n"
     ]
    }
   ],
   "source": [
    "alldeletions = readdel('/Users/Povilas/Dropbox/Projects/2015-Metformin/Biolog_Met_NGM/Celegans/Deletions.csv')\n",
    "thresholds_man = readman('/Users/Povilas/Dropbox/Projects/2015-Metformin/Biolog_Met_NGM/Celegans/Thresholds_all_3.csv')\n",
    "\n",
    "otbl = 'Summary_{}_{}.csv'.format('rep56', label)\n",
    "olabels = 'Segmentation_default.pkl'"
   ]
  },
  {
   "cell_type": "code",
   "execution_count": 16,
   "metadata": {},
   "outputs": [
    {
     "name": "stdout",
     "output_type": "stream",
     "text": [
      "Rep1 PM4A ./Rep1/PM4A/PM4A_091.tif 91\n",
      "Rep3 PM2A ./Rep3/PM2A/PM2A_087.tif 87\n",
      "Rep6 PM2A ./Rep6/PM2A/PM2A_084.tif 84\n",
      "Rep4 PM3B ./Rep4/PM3B/PM3B_069.tif 69\n",
      "Rep2 PM2A ./Rep2/PM2A/PM2A_096.tif 96\n",
      "Rep4 PM1 ./Rep4/PM1/PM1_030.tif 30\n",
      "Rep2 PM4A ./Rep2/PM4A/PM4A_017.tif 17\n",
      "Rep3 PM2A ./Rep3/PM2A/PM2A_078.tif 78\n",
      "Rep5 NGM_Control ./Rep5/NGM_Control/NGM_NoMetf_004.tif 4\n",
      "Rep3 PM1 ./Rep3/PM1/PM1_055.tif 55\n"
     ]
    }
   ],
   "source": [
    "#settings={'fd':10}\n",
    "args=[]\n",
    "for fln in imagesindex.keys()[:10]:\n",
    "    replicate,plate,fl=fln.split('/')[1:]\n",
    "    flname,flex=fl.split('.')\n",
    "    \n",
    "    indx=numerize(re.findall(r'\\d+', flname)[-1])\n",
    "    \n",
    "    fpat, fname, ftype = filename(fln)\n",
    "    \n",
    "    hv=images[imagesindex[fln]]\n",
    "    \n",
    "    print replicate, plate, fln, indx\n",
    "    \n",
    "    if indx in alldeletions[replicate][plate].keys():\n",
    "        delworms = alldeletions[replicate][plate][indx]['Worms']  \n",
    "    else:\n",
    "        delworms = []\n",
    "        \n",
    "    \n",
    "    if indx in thresholds_man[replicate[3]][plate].keys():\n",
    "        mthr=thresholds_man[replicate[3]][plate][indx]\n",
    "    else:\n",
    "        mthr=''\n",
    "\n",
    "    args.append((fln,replicate,hv,delworms,mthr,settings))"
   ]
  },
  {
   "cell_type": "code",
   "execution_count": null,
   "metadata": {},
   "outputs": [
    {
     "name": "stdout",
     "output_type": "stream",
     "text": [
      "FWHM: 0.0173082428497, mu: 0.331277829392, SD: 0.00735013398847\n"
     ]
    }
   ],
   "source": [
    "hv=images[imagesindex[fln]]\n",
    "\n",
    "fln,imagef,labeled_worms,results_data=labeller4B_Mt((fln,replicate, hv, [], mthr, settings, ''))"
   ]
  },
  {
   "cell_type": "code",
   "execution_count": 21,
   "metadata": {
    "collapsed": true
   },
   "outputs": [],
   "source": [
    "def labeller4B_Mt((fln,replicate, hv, delworms, mthr, settings, q),cthres=0.02,lstep=0.001, dvd=3, dhd=3 , cod=3, sd=10, r14_mu=0.995318, r14_sd=0.427193, r14_c=0.020434, r56_mu=0.995318, r56_sd=0.427193, r56_c=0.03, blobsize=1000, maxsize=1000000):\n",
    "\n",
    "    for key,val in settings.items():\n",
    "        exec(key + '=val')\n",
    "        \n",
    "    levels = [\"{0:.3f}\".format(lvl) for lvl in np.arange(0, 1 + lstep, lstep)]\n",
    "    \n",
    "    hvdel=wormdel(hv, delworms)\n",
    "    hvclean = skimage.img_as_float(hvdel)\n",
    "    \n",
    "    h=hvclean[:,:,0]\n",
    "    v=hvclean[:,:,1]\n",
    "    \n",
    "    v1D = np.around(h.ravel(), 3)\n",
    "    ftable = np.array(freqtable(v1D))\n",
    "    ftable = ftable[np.argsort(ftable[:, 0])]\n",
    "    X, Y, mu, sd = fitgauss(ftable[:, 0], ftable[:, 1])\n",
    "    # What hue threshold o use\n",
    "\n",
    "\n",
    "    if replicate in ['Rep1','Rep2','Rep3','Rep4']:\n",
    "        hthr=mu * r14_mu + sd * r14_sd + r14_c\n",
    "        #hthr=mu * 0.995318 + sd * 0.427193 + 0.020434\n",
    "    else:\n",
    "        hthr=mu * r56_mu + sd * r56_sd + r56_c\n",
    "        #hthr=mu * 0.995318 + sd * 0.427193 + 0.03\n",
    "\n",
    "\n",
    "    #Use manual value or estimate\n",
    "    hthres = mthr if mthr!='' and mthr!=0 else hthr\n",
    "\n",
    "\n",
    "    # Filtering\n",
    "    dh = skimage.img_as_float(rank.median(h, disk(dhd)))# / 255.0\n",
    "    dv = skimage.img_as_float(rank.median(v, disk(dvd)))# / 255.0\n",
    "    # np.max(dh)\n",
    "    # hmax=np.percentile(h,95)\n",
    "\n",
    "    hf = dh.copy()\n",
    "    hf[hf < hthres] = 0\n",
    "    hf = hf / hthres\n",
    "    \n",
    "    # plt.imshow(hf)\n",
    "\n",
    "    comb_r = hf * dv\n",
    "    comb = opening(comb_r, selem=disk(3))\n",
    "\n",
    "    markers = np.zeros_like(comb)\n",
    "    # Mark background\n",
    "    markers[comb == 0] = 1\n",
    "    markers[comb > cthres] = 2\n",
    "\n",
    "    labeled_worms=waterseg(markers,sd,blobsize)\n",
    "\n",
    "    #Data collection step\n",
    "    #In Velocity background is summed in only one channel!\n",
    "    results_data=getdistributions(v,labeled_worms,levels)\n",
    "    \n",
    "    #q.put(fln)\n",
    "    \n",
    "    return [fln,imagef,labeled_worms,results_data]\n",
    "\n",
    "\n"
   ]
  },
  {
   "cell_type": "code",
   "execution_count": null,
   "metadata": {},
   "outputs": [],
   "source": [
    "results=multiprocessor(4,labeller4B_Mt,args)\n",
    "\n",
    "fls, filteredarray, labelsarray, resultsarray = zip(*results)\n",
    "\n",
    "#Collect and save results\n",
    "labelsindex={fl:fli for fli,fl in enumerate(fls) }\n",
    "\n",
    "results_data=[]\n",
    "lstep=0.001\n",
    "levels = [\"{0:.3f}\".format(lvl) for lvl in np.arange(0, 1 + lstep, lstep)]\n",
    "res_header=['File','Worm']+levels\n",
    "\n",
    "for fl, respack in zip(fls, resultsarray):\n",
    "    for row in respack:\n",
    "        if len(row)>0:\n",
    "            results_data.append([fl]+row)\n",
    "            "
   ]
  },
  {
   "cell_type": "code",
   "execution_count": 53,
   "metadata": {},
   "outputs": [
    {
     "name": "stdout",
     "output_type": "stream",
     "text": [
      "Collecting results....\n"
     ]
    },
    {
     "ename": "AttributeError",
     "evalue": "'module' object has no attribute 'as_type_float'",
     "output_type": "error",
     "traceback": [
      "\u001b[0;31m---------------------------------------------------------------------------\u001b[0m",
      "\u001b[0;31mAttributeError\u001b[0m                            Traceback (most recent call last)",
      "\u001b[0;32m<ipython-input-53-fc5c5ea353b2>\u001b[0m in \u001b[0;36m<module>\u001b[0;34m()\u001b[0m\n\u001b[0;32m----> 1\u001b[0;31m \u001b[0mresults\u001b[0m\u001b[0;34m=\u001b[0m\u001b[0mmultiprocessor\u001b[0m\u001b[0;34m(\u001b[0m\u001b[0;36m4\u001b[0m\u001b[0;34m,\u001b[0m\u001b[0mlabeller4B_Mt\u001b[0m\u001b[0;34m,\u001b[0m\u001b[0margs\u001b[0m\u001b[0;34m)\u001b[0m\u001b[0;34m\u001b[0m\u001b[0m\n\u001b[0m\u001b[1;32m      2\u001b[0m \u001b[0;34m\u001b[0m\u001b[0m\n\u001b[1;32m      3\u001b[0m \u001b[0mfls\u001b[0m\u001b[0;34m,\u001b[0m \u001b[0mfilteredarray\u001b[0m\u001b[0;34m,\u001b[0m \u001b[0mlabelsarray\u001b[0m\u001b[0;34m,\u001b[0m \u001b[0mresultsarray\u001b[0m \u001b[0;34m=\u001b[0m \u001b[0mzip\u001b[0m\u001b[0;34m(\u001b[0m\u001b[0;34m*\u001b[0m\u001b[0mresults\u001b[0m\u001b[0;34m)\u001b[0m\u001b[0;34m\u001b[0m\u001b[0m\n\u001b[1;32m      4\u001b[0m \u001b[0;34m\u001b[0m\u001b[0m\n\u001b[1;32m      5\u001b[0m \u001b[0;31m#Collect and save results\u001b[0m\u001b[0;34m\u001b[0m\u001b[0;34m\u001b[0m\u001b[0m\n",
      "\u001b[0;32m/Users/Povilas/Scripts/Celegans_segmentation/src/utilities.py\u001b[0m in \u001b[0;36mmultiprocessor\u001b[0;34m(cores, func, args, nargs)\u001b[0m\n\u001b[1;32m    397\u001b[0m         \u001b[0mtime\u001b[0m\u001b[0;34m.\u001b[0m\u001b[0msleep\u001b[0m\u001b[0;34m(\u001b[0m\u001b[0;36m5\u001b[0m\u001b[0;34m)\u001b[0m\u001b[0;34m\u001b[0m\u001b[0m\n\u001b[1;32m    398\u001b[0m     \u001b[0;32mprint\u001b[0m \u001b[0;34m'Collecting results....'\u001b[0m\u001b[0;34m\u001b[0m\u001b[0m\n\u001b[0;32m--> 399\u001b[0;31m     \u001b[0mresults\u001b[0m\u001b[0;34m=\u001b[0m\u001b[0mresult\u001b[0m\u001b[0;34m.\u001b[0m\u001b[0mget\u001b[0m\u001b[0;34m(\u001b[0m\u001b[0;34m)\u001b[0m\u001b[0;34m\u001b[0m\u001b[0m\n\u001b[0m\u001b[1;32m    400\u001b[0m     \u001b[0;32mprint\u001b[0m \u001b[0;34m'Done!'\u001b[0m\u001b[0;34m\u001b[0m\u001b[0m\n\u001b[1;32m    401\u001b[0m     \u001b[0;31m#print results\u001b[0m\u001b[0;34m\u001b[0m\u001b[0;34m\u001b[0m\u001b[0m\n",
      "\u001b[0;32m/usr/local/lib/python2.7/site-packages/multiprocessing/pool.pyc\u001b[0m in \u001b[0;36mget\u001b[0;34m(self, timeout)\u001b[0m\n\u001b[1;32m    420\u001b[0m             \u001b[0;32mreturn\u001b[0m \u001b[0mself\u001b[0m\u001b[0;34m.\u001b[0m\u001b[0m_value\u001b[0m\u001b[0;34m\u001b[0m\u001b[0m\n\u001b[1;32m    421\u001b[0m         \u001b[0;32melse\u001b[0m\u001b[0;34m:\u001b[0m\u001b[0;34m\u001b[0m\u001b[0m\n\u001b[0;32m--> 422\u001b[0;31m             \u001b[0;32mraise\u001b[0m \u001b[0mself\u001b[0m\u001b[0;34m.\u001b[0m\u001b[0m_value\u001b[0m\u001b[0;34m\u001b[0m\u001b[0m\n\u001b[0m\u001b[1;32m    423\u001b[0m \u001b[0;34m\u001b[0m\u001b[0m\n\u001b[1;32m    424\u001b[0m     \u001b[0;32mdef\u001b[0m \u001b[0m_set\u001b[0m\u001b[0;34m(\u001b[0m\u001b[0mself\u001b[0m\u001b[0;34m,\u001b[0m \u001b[0mi\u001b[0m\u001b[0;34m,\u001b[0m \u001b[0mobj\u001b[0m\u001b[0;34m)\u001b[0m\u001b[0;34m:\u001b[0m\u001b[0;34m\u001b[0m\u001b[0m\n",
      "\u001b[0;31mAttributeError\u001b[0m: 'module' object has no attribute 'as_type_float'"
     ]
    }
   ],
   "source": [
    "# Save results\n",
    "results=pd.DataFrame(results_data,columns=res_header)\n",
    "results.to_csv(otbl)\n",
    "\n",
    "print(\"Saving labels: {}\".format(time.ctime()))\n",
    "print \"Stacking...\"\n",
    "\n",
    "labels=np.stack(labelsarray, axis=0)\n",
    "filtered=np.stack(filteredarray, axis=0)\n",
    "print \"Stacking complete!\"\n",
    "\n",
    "print \"Writing...\"\n",
    "#f = gzip.open(olabelsgz, \"w\")\n",
    "f = open(olabels, \"w\")\n",
    "#cPickle.dump((labelsindex,labels), f)\n",
    "cPickle.dump((labelsindex,filtered,labels), f)\n",
    "f.close()\n",
    "print \"Zipping...\"\n",
    "os.system(\"gzip -f {}\".format(olabels))\n",
    "print(\"Saving labels complete! {}\".format(time.ctime()))"
   ]
  },
  {
   "cell_type": "code",
   "execution_count": null,
   "metadata": {
    "collapsed": true
   },
   "outputs": [],
   "source": [
    "\n",
    "\n",
    "\n",
    "\n",
    "header = ['Replicate', 'Plate', 'Well', 'File', 'Worm'] + levels\n",
    "data.insert(0, header)\n",
    "writecsv(data, ofname, '\\t')\n",
    "\n",
    "#Save thresholds\n",
    "header = ['Replicate', 'Plate', 'Well', 'File', 'Worm'] + ['Mu','SD','Manual_t','Estimated_t']\n",
    "thresholds.insert(0, header)\n",
    "writecsv(thresholds, otname, '\\t')"
   ]
  }
 ],
 "metadata": {
  "kernelspec": {
   "display_name": "Python 2",
   "language": "python",
   "name": "python2"
  },
  "language_info": {
   "codemirror_mode": {
    "name": "ipython",
    "version": 2
   },
   "file_extension": ".py",
   "mimetype": "text/x-python",
   "name": "python",
   "nbconvert_exporter": "python",
   "pygments_lexer": "ipython2",
   "version": "2.7.15"
  }
 },
 "nbformat": 4,
 "nbformat_minor": 2
}
